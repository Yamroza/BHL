{
 "cells": [
  {
   "cell_type": "code",
   "execution_count": 1,
   "id": "silent-outside",
   "metadata": {},
   "outputs": [],
   "source": [
    "import pandas as pd\n",
    "import numpy as np\n",
    "import seaborn as sn\n",
    "import matplotlib.pyplot as plt"
   ]
  },
  {
   "cell_type": "code",
   "execution_count": 2,
   "id": "turned-florida",
   "metadata": {},
   "outputs": [],
   "source": [
    "# XGBOOST, feature importances"
   ]
  },
  {
   "cell_type": "code",
   "execution_count": 3,
   "id": "canadian-saudi",
   "metadata": {},
   "outputs": [],
   "source": [
    "# GEOGRAFICZNIE UZUPELNIAMY NA PODSTAWIE BLOKÓW\n",
    "# geograficzne to:staddr, postcode, latitude, longitude, community board\n",
    "# council district, census tract, NTA\n",
    "# STORIES - BIERZEMY SREDNIA Z BLOKOW\n",
    "# ext na dwie kolumny e i g\n",
    "# EASEMENT - DWIE KOLUMNY E I N\n",
    "# obliczyc powierzchnie i normalizować"
   ]
  },
  {
   "cell_type": "code",
   "execution_count": 7,
   "id": "13f6919b",
   "metadata": {},
   "outputs": [],
   "source": [
    "def calc_average_from_block(dataset, block, column):\n",
    "    new_df = dataset[dataset[\"BLOCK\"] == block]\n",
    "    return new_df[column].mean()\n",
    "\n",
    "def calc_postal_code(data, block, column): # postcode, community board, council district, census tract\n",
    "    new_df = data[data[\"BLOCK\"] == block]\n",
    "    return max(new_df[column].unique())\n",
    "\n",
    "def calc_district(data, block, column):\n",
    "    new_df = data[data[\"BLOCK\"] == block]\n",
    "    return new_df[column].unique()[0]"
   ]
  },
  {
   "cell_type": "code",
   "execution_count": 8,
   "id": "current-gamma",
   "metadata": {},
   "outputs": [],
   "source": [
    "def prepare_data(path):\n",
    "    data = pd.read_csv(path)\n",
    "    data.drop(labels=[\"BBLE\", \"LOT\",\"PERIOD\", \"VALTYPE\",\n",
    "                  \"Borough\", \"New Georeferenced Column\",\n",
    "                  \"OWNER\", \"AVLAND2\", \"AVTOT2\",\n",
    "                  \"EXLAND2\", \"EXTOT2\",\"BIN\", \"EXCD1\", \"EXCD2\",\n",
    "                  \"EXMPTCL\", \"YEAR\", \"STADDR\"],axis=1, inplace=True)\n",
    "    data[\"EASEMENT\"] = data[\"EASEMENT\"].fillna(\"0\")\n",
    "    data[\"EXT\"] = data[\"EXT\"].fillna(\"0\")\n",
    "    data.loc[(data[\"EASEMENT\"] == \"F\"), \"EASEMENT\"] = \"E\"\n",
    "    data.loc[(data[\"EASEMENT\"] == \"G\"), \"EASEMENT\"] = \"E\"\n",
    "    data.loc[(data[\"EASEMENT\"] == \"H\"), \"EASEMENT\"] = \"E\"\n",
    "    data.loc[(data[\"EASEMENT\"] == \"I\"), \"EASEMENT\"] = \"E\"\n",
    "    data[\"EXT_E\"] = 0\n",
    "    data[\"EXT_G\"] = 0\n",
    "    data[\"EASEMENT_E\"] = 0\n",
    "    data[\"EASEMENT_N\"] = 0\n",
    "    data.loc[(data[\"EXT\"] == \"E\"), \"EXT_E\"] = 1\n",
    "    data.loc[(data[\"EXT\"] == \"EG\"), \"EXT_E\"] = 1\n",
    "    data.loc[(data[\"EXT\"] == \"G\"), \"EXT_G\"] = 1\n",
    "    data.loc[(data[\"EXT\"] == \"EG\"), \"EXT_G\"] = 1\n",
    "    data.loc[(data[\"EASEMENT\"] == \"E\"), \"EASEMENT_E\"] = 1\n",
    "    data.loc[(data[\"EASEMENT\"] == \"N\"), \"EASEMENT_N\"] = 1\n",
    "    data.drop([\"EXT\", \"EASEMENT\"], axis=1, inplace=True)\n",
    "    data[\"STORIES\"].fillna(method=\"ffill\", inplace=True)\n",
    "    data[\"POSTCODE\"].loc[data[\"POSTCODE\"].isnull()] = calc_postal_code(data, data[\"BLOCK\"], \"POSTCODE\")\n",
    "    data[\"Community Board\"].loc[data[\"Community Board\"].isnull()] = calc_postal_code(data, data[\"BLOCK\"], \"Community Board\")\n",
    "    data[\"Council District\"].loc[data[\"Council District\"].isnull()] = calc_postal_code(data, data[\"BLOCK\"], \"Council District\")\n",
    "    data[\"Census Tract\"].loc[data[\"Census Tract\"].isnull()] = calc_postal_code(data, data[\"BLOCK\"], \"Census Tract\")\n",
    "    data[\"NTA\"].loc[data[\"NTA\"].isnull()] = calc_district(data, data[\"BLOCK\"], \"NTA\")\n",
    "    data[\"Latitude\"].loc[data[\"Latitude\"].isnull()] = calc_average_from_block(data, data[\"BLOCK\"], \"Latitude\")\n",
    "    data[\"Longitude\"].loc[data[\"Longitude\"].isnull()] = calc_average_from_block(data, data[\"BLOCK\"], \"Longitude\")\n",
    "    data[\"STORIES\"].loc[data[\"STORIES\"].isnull()] = calc_average_from_block(data, data[\"BLOCK\"], \"STORIES\")\n",
    "    return data"
   ]
  },
  {
   "cell_type": "code",
   "execution_count": 9,
   "id": "returning-costume",
   "metadata": {},
   "outputs": [
    {
     "name": "stderr",
     "output_type": "stream",
     "text": [
      "/tmp/ipykernel_32168/70828646.py:26: SettingWithCopyWarning: \n",
      "A value is trying to be set on a copy of a slice from a DataFrame\n",
      "\n",
      "See the caveats in the documentation: https://pandas.pydata.org/pandas-docs/stable/user_guide/indexing.html#returning-a-view-versus-a-copy\n",
      "  data[\"POSTCODE\"].loc[data[\"POSTCODE\"].isnull()] = calc_postal_code(data, data[\"BLOCK\"], \"POSTCODE\")\n",
      "/tmp/ipykernel_32168/70828646.py:27: SettingWithCopyWarning: \n",
      "A value is trying to be set on a copy of a slice from a DataFrame\n",
      "\n",
      "See the caveats in the documentation: https://pandas.pydata.org/pandas-docs/stable/user_guide/indexing.html#returning-a-view-versus-a-copy\n",
      "  data[\"Community Board\"].loc[data[\"Community Board\"].isnull()] = calc_postal_code(data, data[\"BLOCK\"], \"Community Board\")\n",
      "/tmp/ipykernel_32168/70828646.py:28: SettingWithCopyWarning: \n",
      "A value is trying to be set on a copy of a slice from a DataFrame\n",
      "\n",
      "See the caveats in the documentation: https://pandas.pydata.org/pandas-docs/stable/user_guide/indexing.html#returning-a-view-versus-a-copy\n",
      "  data[\"Council District\"].loc[data[\"Council District\"].isnull()] = calc_postal_code(data, data[\"BLOCK\"], \"Council District\")\n",
      "/tmp/ipykernel_32168/70828646.py:29: SettingWithCopyWarning: \n",
      "A value is trying to be set on a copy of a slice from a DataFrame\n",
      "\n",
      "See the caveats in the documentation: https://pandas.pydata.org/pandas-docs/stable/user_guide/indexing.html#returning-a-view-versus-a-copy\n",
      "  data[\"Census Tract\"].loc[data[\"Census Tract\"].isnull()] = calc_postal_code(data, data[\"BLOCK\"], \"Census Tract\")\n",
      "/tmp/ipykernel_32168/70828646.py:30: SettingWithCopyWarning: \n",
      "A value is trying to be set on a copy of a slice from a DataFrame\n",
      "\n",
      "See the caveats in the documentation: https://pandas.pydata.org/pandas-docs/stable/user_guide/indexing.html#returning-a-view-versus-a-copy\n",
      "  data[\"NTA\"].loc[data[\"NTA\"].isnull()] = calc_district(data, data[\"BLOCK\"], \"NTA\")\n",
      "/tmp/ipykernel_32168/70828646.py:31: SettingWithCopyWarning: \n",
      "A value is trying to be set on a copy of a slice from a DataFrame\n",
      "\n",
      "See the caveats in the documentation: https://pandas.pydata.org/pandas-docs/stable/user_guide/indexing.html#returning-a-view-versus-a-copy\n",
      "  data[\"Latitude\"].loc[data[\"Latitude\"].isnull()] = calc_average_from_block(data, data[\"BLOCK\"], \"Latitude\")\n",
      "/tmp/ipykernel_32168/70828646.py:32: SettingWithCopyWarning: \n",
      "A value is trying to be set on a copy of a slice from a DataFrame\n",
      "\n",
      "See the caveats in the documentation: https://pandas.pydata.org/pandas-docs/stable/user_guide/indexing.html#returning-a-view-versus-a-copy\n",
      "  data[\"Longitude\"].loc[data[\"Longitude\"].isnull()] = calc_average_from_block(data, data[\"BLOCK\"], \"Longitude\")\n",
      "/tmp/ipykernel_32168/70828646.py:33: SettingWithCopyWarning: \n",
      "A value is trying to be set on a copy of a slice from a DataFrame\n",
      "\n",
      "See the caveats in the documentation: https://pandas.pydata.org/pandas-docs/stable/user_guide/indexing.html#returning-a-view-versus-a-copy\n",
      "  data[\"STORIES\"].loc[data[\"STORIES\"].isnull()] = calc_average_from_block(data, data[\"BLOCK\"], \"STORIES\")\n"
     ]
    }
   ],
   "source": [
    "data = prepare_data(\"data/train_data.csv\")"
   ]
  },
  {
   "cell_type": "code",
   "execution_count": 10,
   "id": "b3065230",
   "metadata": {},
   "outputs": [
    {
     "name": "stdout",
     "output_type": "stream",
     "text": [
      "<class 'pandas.core.frame.DataFrame'>\n",
      "RangeIndex: 11946 entries, 0 to 11945\n",
      "Data columns (total 25 columns):\n",
      " #   Column            Non-Null Count  Dtype  \n",
      "---  ------            --------------  -----  \n",
      " 0   BORO              11946 non-null  int64  \n",
      " 1   BLOCK             11946 non-null  int64  \n",
      " 2   BLDGCL            11946 non-null  object \n",
      " 3   TAXCLASS          11946 non-null  object \n",
      " 4   LTFRONT           11946 non-null  int64  \n",
      " 5   LTDEPTH           11946 non-null  int64  \n",
      " 6   STORIES           11946 non-null  float64\n",
      " 7   FULLVAL           11946 non-null  int64  \n",
      " 8   AVLAND            11946 non-null  int64  \n",
      " 9   AVTOT             11946 non-null  int64  \n",
      " 10  EXLAND            11946 non-null  int64  \n",
      " 11  EXTOT             11946 non-null  int64  \n",
      " 12  POSTCODE          11946 non-null  float64\n",
      " 13  BLDFRONT          11946 non-null  int64  \n",
      " 14  BLDDEPTH          11946 non-null  int64  \n",
      " 15  Latitude          11946 non-null  float64\n",
      " 16  Longitude         11946 non-null  float64\n",
      " 17  Community Board   11946 non-null  float64\n",
      " 18  Council District  11946 non-null  float64\n",
      " 19  Census Tract      11946 non-null  float64\n",
      " 20  NTA               11946 non-null  object \n",
      " 21  EXT_E             11946 non-null  int64  \n",
      " 22  EXT_G             11946 non-null  int64  \n",
      " 23  EASEMENT_E        11946 non-null  int64  \n",
      " 24  EASEMENT_N        11946 non-null  int64  \n",
      "dtypes: float64(7), int64(15), object(3)\n",
      "memory usage: 2.3+ MB\n"
     ]
    }
   ],
   "source": [
    "data.info()"
   ]
  }
 ],
 "metadata": {
  "kernelspec": {
   "display_name": "Python 3 (ipykernel)",
   "language": "python",
   "name": "python3"
  },
  "language_info": {
   "codemirror_mode": {
    "name": "ipython",
    "version": 3
   },
   "file_extension": ".py",
   "mimetype": "text/x-python",
   "name": "python",
   "nbconvert_exporter": "python",
   "pygments_lexer": "ipython3",
   "version": "3.9.7"
  }
 },
 "nbformat": 4,
 "nbformat_minor": 5
}

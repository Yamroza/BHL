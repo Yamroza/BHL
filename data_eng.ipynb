{
 "cells": [
  {
   "cell_type": "code",
   "execution_count": 12,
   "id": "silent-outside",
   "metadata": {},
   "outputs": [],
   "source": [
    "import pandas as pd\n",
    "import numpy as np\n",
    "import seaborn as sn\n",
    "import matplotlib.pyplot as plt\n",
    "from sklearn import preprocessing, metrics\n",
    "import sklearn as skl\n",
    "import xgboost\n",
    "from sklearn.model_selection import cross_val_score\n",
    "from sklearn.model_selection import RepeatedKFold"
   ]
  },
  {
   "cell_type": "code",
   "execution_count": 2,
   "id": "turned-florida",
   "metadata": {},
   "outputs": [],
   "source": [
    "# XGBOOST, feature importances"
   ]
  },
  {
   "cell_type": "code",
   "execution_count": 3,
   "id": "canadian-saudi",
   "metadata": {},
   "outputs": [],
   "source": [
    "# GEOGRAFICZNIE UZUPELNIAMY NA PODSTAWIE BLOKÓW\n",
    "# geograficzne to:staddr, postcode, latitude, longitude, community board\n",
    "# council district, census tract, NTA\n",
    "# STORIES - BIERZEMY SREDNIA Z BLOKOW\n",
    "# ext na dwie kolumny e i g\n",
    "# EASEMENT - DWIE KOLUMNY E I N\n",
    "# obliczyc powierzchnie i normalizować"
   ]
  },
  {
   "cell_type": "code",
   "execution_count": 4,
   "id": "13f6919b",
   "metadata": {},
   "outputs": [],
   "source": [
    "def calc_average_from_block(dataset, block, column):\n",
    "    new_df = dataset[dataset[\"BLOCK\"] == block]\n",
    "    return new_df[column].mean()\n",
    "\n",
    "def calc_postal_code(data, block, column): # postcode, community board, council district, census tract\n",
    "    new_df = data[data[\"BLOCK\"] == block]\n",
    "    return max(new_df[column].unique())\n",
    "\n",
    "def calc_district(data, block, column):\n",
    "    new_df = data[data[\"BLOCK\"] == block]\n",
    "    return new_df[column].unique()[0]"
   ]
  },
  {
   "cell_type": "code",
   "execution_count": 5,
   "id": "current-gamma",
   "metadata": {},
   "outputs": [],
   "source": [
    "def prepare_data(path):\n",
    "    data = pd.read_csv(path)\n",
    "    data.drop(labels=[\"BBLE\", \"LOT\",\"PERIOD\", \"VALTYPE\",\n",
    "                  \"Borough\", \"New Georeferenced Column\",\n",
    "                  \"OWNER\", \"AVLAND2\", \"AVTOT2\",\n",
    "                  \"EXLAND2\", \"EXTOT2\",\"BIN\", \"EXCD1\", \"EXCD2\",\n",
    "                  \"EXMPTCL\", \"YEAR\", \"STADDR\"],axis=1, inplace=True)\n",
    "    data[\"EASEMENT\"] = data[\"EASEMENT\"].fillna(\"0\")\n",
    "    data[\"EXT\"] = data[\"EXT\"].fillna(\"0\")\n",
    "    data.loc[(data[\"EASEMENT\"] == \"F\"), \"EASEMENT\"] = \"E\"\n",
    "    data.loc[(data[\"EASEMENT\"] == \"G\"), \"EASEMENT\"] = \"E\"\n",
    "    data.loc[(data[\"EASEMENT\"] == \"H\"), \"EASEMENT\"] = \"E\"\n",
    "    data.loc[(data[\"EASEMENT\"] == \"I\"), \"EASEMENT\"] = \"E\"\n",
    "    data[\"EXT_E\"] = 0\n",
    "    data[\"EXT_G\"] = 0\n",
    "    data[\"EASEMENT_E\"] = 0\n",
    "    data[\"EASEMENT_N\"] = 0\n",
    "    data.loc[(data[\"EXT\"] == \"E\"), \"EXT_E\"] = 1\n",
    "    data.loc[(data[\"EXT\"] == \"EG\"), \"EXT_E\"] = 1\n",
    "    data.loc[(data[\"EXT\"] == \"G\"), \"EXT_G\"] = 1\n",
    "    data.loc[(data[\"EXT\"] == \"EG\"), \"EXT_G\"] = 1\n",
    "    data.loc[(data[\"EASEMENT\"] == \"E\"), \"EASEMENT_E\"] = 1\n",
    "    data.loc[(data[\"EASEMENT\"] == \"N\"), \"EASEMENT_N\"] = 1\n",
    "    data.drop([\"EXT\", \"EASEMENT\"], axis=1, inplace=True)\n",
    "    data[\"STORIES\"].fillna(method=\"ffill\", inplace=True)\n",
    "    data[\"POSTCODE\"].loc[data[\"POSTCODE\"].isnull()] = calc_postal_code(data, data[\"BLOCK\"], \"POSTCODE\")\n",
    "    data[\"Community Board\"].loc[data[\"Community Board\"].isnull()] = calc_postal_code(data, data[\"BLOCK\"], \"Community Board\")\n",
    "    data[\"Council District\"].loc[data[\"Council District\"].isnull()] = calc_postal_code(data, data[\"BLOCK\"], \"Council District\")\n",
    "    data[\"Census Tract\"].loc[data[\"Census Tract\"].isnull()] = calc_postal_code(data, data[\"BLOCK\"], \"Census Tract\")\n",
    "    data[\"NTA\"].loc[data[\"NTA\"].isnull()] = calc_district(data, data[\"BLOCK\"], \"NTA\")\n",
    "    data[\"Latitude\"].loc[data[\"Latitude\"].isnull()] = calc_average_from_block(data, data[\"BLOCK\"], \"Latitude\")\n",
    "    data[\"Longitude\"].loc[data[\"Longitude\"].isnull()] = calc_average_from_block(data, data[\"BLOCK\"], \"Longitude\")\n",
    "    data[\"STORIES\"].loc[data[\"STORIES\"].isnull()] = calc_average_from_block(data, data[\"BLOCK\"], \"STORIES\")\n",
    "    le = preprocessing.LabelEncoder()\n",
    "    le.fit(data['BLDGCL'])\n",
    "    data.BLDGCL = le.transform(data.BLDGCL)\n",
    "    le.fit(data['NTA'])\n",
    "    data.NTA = le.transform(data.NTA)\n",
    "    le.fit(data['TAXCLASS'])\n",
    "    data.TAXCLASS = le.transform(data.TAXCLASS)\n",
    "    return data"
   ]
  },
  {
   "cell_type": "code",
   "execution_count": 7,
   "id": "b3065230",
   "metadata": {},
   "outputs": [],
   "source": [
    "def divide_data(data):\n",
    "    X = data.loc[:, data.columns != 'FULLVAL']\n",
    "    y = data[\"FULLVAL\"]\n",
    "    return X, y"
   ]
  },
  {
   "cell_type": "code",
   "execution_count": 41,
   "id": "great-credits",
   "metadata": {},
   "outputs": [],
   "source": [
    "def train_test(data):\n",
    "    train, test = skl.model_selection.train_test_split(data, test_size=25)\n",
    "    X_train, y_train = divide_data(train)\n",
    "    X_test, y_test = divide_data(test)\n",
    "    return X_train, y_train, X_test, y_test"
   ]
  },
  {
   "cell_type": "code",
   "execution_count": 37,
   "id": "correct-bookmark",
   "metadata": {},
   "outputs": [],
   "source": [
    "def save_model(X_train_ y_train):\n",
    "    model = xgboost.XGBRegressor(n_estimators=1000, max_depth=6,\n",
    "                         eta=0.1, subsample=0.7, colsample_bytree=0.8)\n",
    "    model.fit(X_train, y_train)\n",
    "    model.save_model('model.json')"
   ]
  },
  {
   "cell_type": "code",
   "execution_count": null,
   "id": "welsh-vacation",
   "metadata": {},
   "outputs": [],
   "source": []
  }
 ],
 "metadata": {
  "kernelspec": {
   "display_name": "Python 3",
   "language": "python",
   "name": "python3"
  },
  "language_info": {
   "codemirror_mode": {
    "name": "ipython",
    "version": 3
   },
   "file_extension": ".py",
   "mimetype": "text/x-python",
   "name": "python",
   "nbconvert_exporter": "python",
   "pygments_lexer": "ipython3",
   "version": "3.9.7"
  }
 },
 "nbformat": 4,
 "nbformat_minor": 5
}

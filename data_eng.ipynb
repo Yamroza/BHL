{
 "cells": [
  {
   "cell_type": "code",
   "execution_count": 1,
   "id": "silent-outside",
   "metadata": {},
   "outputs": [],
   "source": [
    "import pandas as pd\n",
    "import numpy as np\n",
    "import seaborn as sn\n",
    "import matplotlib.pyplot as plt\n",
    "from sklearn import preprocessing, metrics\n",
    "import sklearn as skl\n",
    "import xgboost\n",
    "import math\n",
    "from sklearn.model_selection import cross_val_score\n",
    "from sklearn.model_selection import RepeatedKFold\n",
    "from sklearn.preprocessing import MinMaxScaler\n",
    "from sklearn.model_selection import GridSearchCV"
   ]
  },
  {
   "cell_type": "code",
   "execution_count": 2,
   "id": "turned-florida",
   "metadata": {},
   "outputs": [
    {
     "name": "stdout",
     "output_type": "stream",
     "text": [
      "<class 'pandas.core.frame.DataFrame'>\n",
      "RangeIndex: 11946 entries, 0 to 11945\n",
      "Data columns (total 40 columns):\n",
      " #   Column                    Non-Null Count  Dtype  \n",
      "---  ------                    --------------  -----  \n",
      " 0   BBLE                      11946 non-null  object \n",
      " 1   BORO                      11946 non-null  int64  \n",
      " 2   BLOCK                     11946 non-null  int64  \n",
      " 3   LOT                       11946 non-null  int64  \n",
      " 4   EASEMENT                  126 non-null    object \n",
      " 5   OWNER                     11672 non-null  object \n",
      " 6   BLDGCL                    11946 non-null  object \n",
      " 7   TAXCLASS                  11946 non-null  object \n",
      " 8   LTFRONT                   11946 non-null  int64  \n",
      " 9   LTDEPTH                   11946 non-null  int64  \n",
      " 10  EXT                       2982 non-null   object \n",
      " 11  STORIES                   11235 non-null  float64\n",
      " 12  FULLVAL                   11946 non-null  int64  \n",
      " 13  AVLAND                    11946 non-null  int64  \n",
      " 14  AVTOT                     11946 non-null  int64  \n",
      " 15  EXLAND                    11946 non-null  int64  \n",
      " 16  EXTOT                     11946 non-null  int64  \n",
      " 17  EXCD1                     5993 non-null   float64\n",
      " 18  STADDR                    11929 non-null  object \n",
      " 19  POSTCODE                  11594 non-null  float64\n",
      " 20  EXMPTCL                   192 non-null    object \n",
      " 21  BLDFRONT                  11946 non-null  int64  \n",
      " 22  BLDDEPTH                  11946 non-null  int64  \n",
      " 23  AVLAND2                   3765 non-null   float64\n",
      " 24  AVTOT2                    3765 non-null   float64\n",
      " 25  EXLAND2                   1155 non-null   float64\n",
      " 26  EXTOT2                    1784 non-null   float64\n",
      " 27  EXCD2                     768 non-null    float64\n",
      " 28  PERIOD                    11946 non-null  object \n",
      " 29  YEAR                      11946 non-null  object \n",
      " 30  VALTYPE                   11946 non-null  object \n",
      " 31  Borough                   11514 non-null  object \n",
      " 32  Latitude                  11512 non-null  float64\n",
      " 33  Longitude                 11512 non-null  float64\n",
      " 34  Community Board           11512 non-null  float64\n",
      " 35  Council District          11512 non-null  float64\n",
      " 36  Census Tract              11512 non-null  float64\n",
      " 37  BIN                       11444 non-null  float64\n",
      " 38  NTA                       11512 non-null  object \n",
      " 39  New Georeferenced Column  11512 non-null  object \n",
      "dtypes: float64(14), int64(12), object(14)\n",
      "memory usage: 3.6+ MB\n"
     ]
    }
   ],
   "source": [
    "# XGBOOST, feature importances\n",
    "data = pd.read_csv(\"data/train_data.csv\")\n",
    "data.info()"
   ]
  },
  {
   "cell_type": "code",
   "execution_count": 3,
   "id": "canadian-saudi",
   "metadata": {},
   "outputs": [],
   "source": [
    "# GEOGRAFICZNIE UZUPELNIAMY NA PODSTAWIE BLOKÓW\n",
    "# geograficzne to:staddr, postcode, latitude, longitude, community board\n",
    "# council district, census tract, NTA\n",
    "# STORIES - BIERZEMY SREDNIA Z BLOKOW\n",
    "# ext na dwie kolumny e i g\n",
    "# EASEMENT - DWIE KOLUMNY E I N\n",
    "# obliczyc powierzchnie i normalizować"
   ]
  },
  {
   "cell_type": "code",
   "execution_count": 4,
   "id": "13f6919b",
   "metadata": {},
   "outputs": [],
   "source": [
    "def calc_average_from_block(dataset, block, column):\n",
    "    new_df = dataset[dataset[\"BLOCK\"] == block]\n",
    "    return new_df[column].mean()\n",
    "\n",
    "def calc_postal_code(data, block, column): # postcode, community board, council district, census tract\n",
    "    new_df = data[data[\"BLOCK\"] == block]\n",
    "    return max(new_df[column].unique())\n",
    "\n",
    "def calc_district(data, block, column):\n",
    "    new_df = data[data[\"BLOCK\"] == block]\n",
    "    return new_df[column].unique()[0]\n",
    "\n",
    "def remove_outlier(df_in, col_name):\n",
    "    q1 = df_in[col_name].quantile(0.25)\n",
    "    q3 = df_in[col_name].quantile(0.75)\n",
    "    iqr = q3-q1 #Interquartile range\n",
    "    fence_low  = q1-1.5*iqr\n",
    "    fence_high = q3+1.5*iqr\n",
    "    df_out = df_in.loc[(df_in[col_name] > fence_low) & (df_in[col_name] < fence_high)]\n",
    "    return df_out"
   ]
  },
  {
   "cell_type": "code",
   "execution_count": 5,
   "id": "current-gamma",
   "metadata": {},
   "outputs": [],
   "source": [
    "def prepare_data(data):\n",
    "    data.drop(labels=[\"BBLE\", \"LOT\",\"PERIOD\", \"VALTYPE\",\n",
    "                  \"Borough\", \"New Georeferenced Column\",\n",
    "                  \"OWNER\", \"BIN\", \"EXCD1\", \"EXCD2\",\n",
    "                  \"EXMPTCL\", \"YEAR\", \"STADDR\"],axis=1, inplace=True)\n",
    "    data[\"EASEMENT\"] = data[\"EASEMENT\"].fillna(\"0\")\n",
    "    data[\"EXT\"] = data[\"EXT\"].fillna(\"0\")\n",
    "    data[\"EXLAND2\"] = data[\"EXLAND2\"].fillna(0)\n",
    "    data[\"EXTOT2\"] = data[\"EXTOT2\"].fillna(0)\n",
    "    data[\"AVLAND2\"] = data[\"AVLAND2\"].fillna(0)\n",
    "    data[\"AVTOT2\"] = data[\"AVTOT2\"].fillna(0)\n",
    "    data.loc[(data[\"EASEMENT\"] == \"F\"), \"EASEMENT\"] = \"E\"\n",
    "    data.loc[(data[\"EASEMENT\"] == \"G\"), \"EASEMENT\"] = \"E\"\n",
    "    data.loc[(data[\"EASEMENT\"] == \"H\"), \"EASEMENT\"] = \"E\"\n",
    "    data.loc[(data[\"EASEMENT\"] == \"I\"), \"EASEMENT\"] = \"E\"\n",
    "    data[\"EXT_E\"] = 0\n",
    "    data[\"EXT_G\"] = 0\n",
    "    data[\"EASEMENT_E\"] = 0\n",
    "    data[\"EASEMENT_N\"] = 0\n",
    "    data.loc[(data[\"EXT\"] == \"E\"), \"EXT_E\"] = 1\n",
    "    data.loc[(data[\"EXT\"] == \"EG\"), \"EXT_E\"] = 1\n",
    "    data.loc[(data[\"EXT\"] == \"G\"), \"EXT_G\"] = 1\n",
    "    data.loc[(data[\"EXT\"] == \"EG\"), \"EXT_G\"] = 1\n",
    "    data.loc[(data[\"EASEMENT\"] == \"E\"), \"EASEMENT_E\"] = 1\n",
    "    data.loc[(data[\"EASEMENT\"] == \"N\"), \"EASEMENT_N\"] = 1\n",
    "    data.drop([\"EXT\", \"EASEMENT\"], axis=1, inplace=True)\n",
    "    data[\"STORIES\"].fillna(method=\"ffill\", inplace=True)\n",
    "    data[\"POSTCODE\"].loc[data[\"POSTCODE\"].isnull()] = calc_postal_code(data, data[\"BLOCK\"], \"POSTCODE\")\n",
    "    data[\"Community Board\"].loc[data[\"Community Board\"].isnull()] = calc_postal_code(data, data[\"BLOCK\"], \"Community Board\")\n",
    "    data[\"Council District\"].loc[data[\"Council District\"].isnull()] = calc_postal_code(data, data[\"BLOCK\"], \"Council District\")\n",
    "    data[\"Census Tract\"].loc[data[\"Census Tract\"].isnull()] = calc_postal_code(data, data[\"BLOCK\"], \"Census Tract\")\n",
    "    data[\"NTA\"].loc[data[\"NTA\"].isnull()] = calc_district(data, data[\"BLOCK\"], \"NTA\")\n",
    "    data[\"Latitude\"].loc[data[\"Latitude\"].isnull()] = calc_average_from_block(data, data[\"BLOCK\"], \"Latitude\")\n",
    "    data[\"Longitude\"].loc[data[\"Longitude\"].isnull()] = calc_average_from_block(data, data[\"BLOCK\"], \"Longitude\")\n",
    "    data[\"STORIES\"].loc[data[\"STORIES\"].isnull()] = calc_average_from_block(data, data[\"BLOCK\"], \"STORIES\")\n",
    "    data = data.loc[data[\"FULLVAL\"] != 0]\n",
    "    \n",
    "    data[\"BLDGCL\"]= data[\"BLDGCL\"].str[0]\n",
    "    \n",
    "    le = preprocessing.LabelEncoder()\n",
    "    le.fit(data['BLDGCL'])\n",
    "    data.BLDGCL = le.transform(data.BLDGCL)\n",
    "    le.fit(data['NTA'])\n",
    "    data.NTA = le.transform(data.NTA)\n",
    "    le.fit(data['TAXCLASS'])\n",
    "    data.TAXCLASS = le.transform(data.TAXCLASS)\n",
    "    \n",
    "    sc = MinMaxScaler()\n",
    "    data['Latitude'] = sc.fit_transform(data['Latitude'].values.reshape(-1,1))\n",
    "    data['Longitude'] = sc.fit_transform(data['Longitude'].values.reshape(-1,1))\n",
    "    data['LTFRONT'] = sc.fit_transform(data['LTFRONT'].values.reshape(-1,1))\n",
    "    data['LTDEPTH'] = sc.fit_transform(data['LTDEPTH'].values.reshape(-1,1))\n",
    "    data['BLDDEPTH'] = sc.fit_transform(data['BLDDEPTH'].values.reshape(-1,1))\n",
    "    data['BLDFRONT'] = sc.fit_transform(data['BLDFRONT'].values.reshape(-1,1))\n",
    "    data = remove_outlier(data, \"AVLAND\")\n",
    "    data.drop(labels=[\"BLOCK\", \"POSTCODE\"],axis=1, inplace=True)\n",
    "    return data"
   ]
  },
  {
   "cell_type": "code",
   "execution_count": 6,
   "id": "final-cruise",
   "metadata": {},
   "outputs": [],
   "source": [
    "def prepare_new_data(train_data, new_data):\n",
    "    number_of_new = len(new_data)\n",
    "    data = pd.concat([train_data, new_data])\n",
    "    data = prepare_data(data)\n",
    "    return data[len(data)-number_of_new:]"
   ]
  },
  {
   "cell_type": "code",
   "execution_count": 7,
   "id": "b3065230",
   "metadata": {},
   "outputs": [],
   "source": [
    "def divide_data(data):\n",
    "    X = data.loc[:, data.columns != 'FULLVAL']\n",
    "    y = data[\"FULLVAL\"]\n",
    "    return X, y"
   ]
  },
  {
   "cell_type": "code",
   "execution_count": 8,
   "id": "confidential-arlington",
   "metadata": {},
   "outputs": [],
   "source": [
    "def train_test(data):\n",
    "    train, test = skl.model_selection.train_test_split(data, test_size=25)\n",
    "    X_train, y_train = divide_data(train)\n",
    "    X_test, y_test = divide_data(test)\n",
    "    return X_train, y_train, X_test, y_test"
   ]
  },
  {
   "cell_type": "code",
   "execution_count": 9,
   "id": "educational-berry",
   "metadata": {},
   "outputs": [],
   "source": [
    "def train_model(X_train, y_train):\n",
    "    model = xgboost.XGBRegressor(n_estimators=1000, max_depth=9, learning_rate = 0.01,\n",
    "                         eta=0.1, subsample=0.7, colsample_bytree=0.7)\n",
    "    model.fit(X_train, y_train)\n",
    "    return model"
   ]
  },
  {
   "cell_type": "code",
   "execution_count": 10,
   "id": "capable-science",
   "metadata": {},
   "outputs": [],
   "source": [
    "def save_model(X_train, y_train):\n",
    "    model = xgboost.XGBRegressor(n_estimators=1000, max_depth=9, learning_rate = 0.01,\n",
    "                         eta=0.1, subsample=0.7, colsample_bytree=0.7)\n",
    "    model.fit(X_train, y_train)\n",
    "    model.save_model('model.json')"
   ]
  },
  {
   "cell_type": "code",
   "execution_count": 11,
   "id": "quarterly-honolulu",
   "metadata": {},
   "outputs": [
    {
     "name": "stderr",
     "output_type": "stream",
     "text": [
      "/home/szaryvip/.local/lib/python3.9/site-packages/pandas/core/indexing.py:1732: SettingWithCopyWarning: \n",
      "A value is trying to be set on a copy of a slice from a DataFrame\n",
      "\n",
      "See the caveats in the documentation: https://pandas.pydata.org/pandas-docs/stable/user_guide/indexing.html#returning-a-view-versus-a-copy\n",
      "  self._setitem_single_block(indexer, value, name)\n",
      "<ipython-input-5-bad1f808b75c>:38: SettingWithCopyWarning: \n",
      "A value is trying to be set on a copy of a slice from a DataFrame.\n",
      "Try using .loc[row_indexer,col_indexer] = value instead\n",
      "\n",
      "See the caveats in the documentation: https://pandas.pydata.org/pandas-docs/stable/user_guide/indexing.html#returning-a-view-versus-a-copy\n",
      "  data[\"BLDGCL\"]= data[\"BLDGCL\"].str[0]\n",
      "/home/szaryvip/.local/lib/python3.9/site-packages/pandas/core/generic.py:5516: SettingWithCopyWarning: \n",
      "A value is trying to be set on a copy of a slice from a DataFrame.\n",
      "Try using .loc[row_indexer,col_indexer] = value instead\n",
      "\n",
      "See the caveats in the documentation: https://pandas.pydata.org/pandas-docs/stable/user_guide/indexing.html#returning-a-view-versus-a-copy\n",
      "  self[name] = value\n",
      "<ipython-input-5-bad1f808b75c>:49: SettingWithCopyWarning: \n",
      "A value is trying to be set on a copy of a slice from a DataFrame.\n",
      "Try using .loc[row_indexer,col_indexer] = value instead\n",
      "\n",
      "See the caveats in the documentation: https://pandas.pydata.org/pandas-docs/stable/user_guide/indexing.html#returning-a-view-versus-a-copy\n",
      "  data['Latitude'] = sc.fit_transform(data['Latitude'].values.reshape(-1,1))\n",
      "<ipython-input-5-bad1f808b75c>:50: SettingWithCopyWarning: \n",
      "A value is trying to be set on a copy of a slice from a DataFrame.\n",
      "Try using .loc[row_indexer,col_indexer] = value instead\n",
      "\n",
      "See the caveats in the documentation: https://pandas.pydata.org/pandas-docs/stable/user_guide/indexing.html#returning-a-view-versus-a-copy\n",
      "  data['Longitude'] = sc.fit_transform(data['Longitude'].values.reshape(-1,1))\n",
      "<ipython-input-5-bad1f808b75c>:51: SettingWithCopyWarning: \n",
      "A value is trying to be set on a copy of a slice from a DataFrame.\n",
      "Try using .loc[row_indexer,col_indexer] = value instead\n",
      "\n",
      "See the caveats in the documentation: https://pandas.pydata.org/pandas-docs/stable/user_guide/indexing.html#returning-a-view-versus-a-copy\n",
      "  data['LTFRONT'] = sc.fit_transform(data['LTFRONT'].values.reshape(-1,1))\n",
      "<ipython-input-5-bad1f808b75c>:52: SettingWithCopyWarning: \n",
      "A value is trying to be set on a copy of a slice from a DataFrame.\n",
      "Try using .loc[row_indexer,col_indexer] = value instead\n",
      "\n",
      "See the caveats in the documentation: https://pandas.pydata.org/pandas-docs/stable/user_guide/indexing.html#returning-a-view-versus-a-copy\n",
      "  data['LTDEPTH'] = sc.fit_transform(data['LTDEPTH'].values.reshape(-1,1))\n",
      "<ipython-input-5-bad1f808b75c>:53: SettingWithCopyWarning: \n",
      "A value is trying to be set on a copy of a slice from a DataFrame.\n",
      "Try using .loc[row_indexer,col_indexer] = value instead\n",
      "\n",
      "See the caveats in the documentation: https://pandas.pydata.org/pandas-docs/stable/user_guide/indexing.html#returning-a-view-versus-a-copy\n",
      "  data['BLDDEPTH'] = sc.fit_transform(data['BLDDEPTH'].values.reshape(-1,1))\n",
      "<ipython-input-5-bad1f808b75c>:54: SettingWithCopyWarning: \n",
      "A value is trying to be set on a copy of a slice from a DataFrame.\n",
      "Try using .loc[row_indexer,col_indexer] = value instead\n",
      "\n",
      "See the caveats in the documentation: https://pandas.pydata.org/pandas-docs/stable/user_guide/indexing.html#returning-a-view-versus-a-copy\n",
      "  data['BLDFRONT'] = sc.fit_transform(data['BLDFRONT'].values.reshape(-1,1))\n"
     ]
    }
   ],
   "source": [
    "data = pd.read_csv(\"data/train_data.csv\")\n",
    "data = prepare_data(data)\n",
    "X, y = divide_data(data)\n",
    "save_model(X, y)"
   ]
  },
  {
   "cell_type": "code",
   "execution_count": 12,
   "id": "round-exclusion",
   "metadata": {},
   "outputs": [],
   "source": [
    "def best_params_xgb():\n",
    "    params = { 'max_depth': [5,7,9],\n",
    "               'learning_rate': [0.01, 0.05, 0.1],\n",
    "               'n_estimators': [1000],\n",
    "               'colsample_bytree': [0.7],\n",
    "               'eta': [0.1, 0.3, 0.5]}\n",
    "    xgbr = xgboost.XGBRegressor(seed = 20)\n",
    "    clf = GridSearchCV(estimator=xgbr, \n",
    "                       param_grid=params,\n",
    "                       scoring='neg_mean_squared_error', \n",
    "                       verbose=1)\n",
    "    clf.fit(X, y)\n",
    "    print(\"Best parameters:\", clf.best_params_)\n",
    "    print(\"Lowest RMSE: \", (-clf.best_score_)**(1/2.0))"
   ]
  },
  {
   "cell_type": "code",
   "execution_count": 13,
   "id": "amended-indication",
   "metadata": {},
   "outputs": [
    {
     "data": {
      "image/png": "[encoded data removed]",
      "text/plain": [
       "<Figure size 432x288 with 1 Axes>"
      ]
     },
     "metadata": {
      "needs_background": "light"
     },
     "output_type": "display_data"
    }
   ],
   "source": [
    "model = xgboost.XGBRegressor()\n",
    "model.load_model('model.json')\n",
    "# col = data.loc[:,data.columns != 'FULLVAL'].columns.values.tolist()\n",
    "# # plt.bar(col, model.feature_importances_)\n",
    "xgboost.plot_importance(model)\n",
    "plt.show()\n",
    "\n",
    "# data.describe()"
   ]
  },
  {
   "cell_type": "code",
   "execution_count": null,
   "id": "cubic-slope",
   "metadata": {},
   "outputs": [],
   "source": [
    "mae = []\n",
    "for _ in range(100):\n",
    "    X_train, y_train, X_test, y_test = train_test(data)\n",
    "    model = train_model(X_train, y_train)\n",
    "    predictions = model.predict(X_test)\n",
    "    mae.append(metrics.mean_absolute_error(predictions, y_test))\n",
    "sum(mae)/len(mae)\n"
   ]
  },
  {
   "cell_type": "code",
   "execution_count": null,
   "id": "conventional-rescue",
   "metadata": {},
   "outputs": [],
   "source": [
    "np.std(mae)"
   ]
  }
 ],
 "metadata": {
  "kernelspec": {
   "display_name": "Python 3",
   "language": "python",
   "name": "python3"
  },
  "language_info": {
   "codemirror_mode": {
    "name": "ipython",
    "version": 3
   },
   "file_extension": ".py",
   "mimetype": "text/x-python",
   "name": "python",
   "nbconvert_exporter": "python",
   "pygments_lexer": "ipython3",
   "version": "3.9.7"
  }
 },
 "nbformat": 4,
 "nbformat_minor": 5
}

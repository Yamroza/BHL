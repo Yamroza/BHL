{
 "cells": [
  {
   "cell_type": "code",
   "execution_count": 1,
   "id": "silent-outside",
   "metadata": {},
   "outputs": [],
   "source": [
    "import pandas as pd\n",
    "import numpy as np\n",
    "import seaborn as sn\n",
    "import matplotlib.pyplot as plt\n",
    "from sklearn import preprocessing, metrics\n",
    "import sklearn as skl\n",
    "import xgboost\n",
    "import math\n",
    "from sklearn.model_selection import cross_val_score\n",
    "from sklearn.model_selection import RepeatedKFold\n",
    "from sklearn.preprocessing import MinMaxScaler\n",
    "from sklearn.model_selection import GridSearchCV"
   ]
  },
  {
   "cell_type": "code",
   "execution_count": 2,
   "id": "turned-florida",
   "metadata": {},
   "outputs": [
    {
     "name": "stdout",
     "output_type": "stream",
     "text": [
      "<class 'pandas.core.frame.DataFrame'>\n",
      "RangeIndex: 11946 entries, 0 to 11945\n",
      "Data columns (total 40 columns):\n",
      " #   Column                    Non-Null Count  Dtype  \n",
      "---  ------                    --------------  -----  \n",
      " 0   BBLE                      11946 non-null  object \n",
      " 1   BORO                      11946 non-null  int64  \n",
      " 2   BLOCK                     11946 non-null  int64  \n",
      " 3   LOT                       11946 non-null  int64  \n",
      " 4   EASEMENT                  126 non-null    object \n",
      " 5   OWNER                     11672 non-null  object \n",
      " 6   BLDGCL                    11946 non-null  object \n",
      " 7   TAXCLASS                  11946 non-null  object \n",
      " 8   LTFRONT                   11946 non-null  int64  \n",
      " 9   LTDEPTH                   11946 non-null  int64  \n",
      " 10  EXT                       2982 non-null   object \n",
      " 11  STORIES                   11235 non-null  float64\n",
      " 12  FULLVAL                   11946 non-null  int64  \n",
      " 13  AVLAND                    11946 non-null  int64  \n",
      " 14  AVTOT                     11946 non-null  int64  \n",
      " 15  EXLAND                    11946 non-null  int64  \n",
      " 16  EXTOT                     11946 non-null  int64  \n",
      " 17  EXCD1                     5993 non-null   float64\n",
      " 18  STADDR                    11929 non-null  object \n",
      " 19  POSTCODE                  11594 non-null  float64\n",
      " 20  EXMPTCL                   192 non-null    object \n",
      " 21  BLDFRONT                  11946 non-null  int64  \n",
      " 22  BLDDEPTH                  11946 non-null  int64  \n",
      " 23  AVLAND2                   3765 non-null   float64\n",
      " 24  AVTOT2                    3765 non-null   float64\n",
      " 25  EXLAND2                   1155 non-null   float64\n",
      " 26  EXTOT2                    1784 non-null   float64\n",
      " 27  EXCD2                     768 non-null    float64\n",
      " 28  PERIOD                    11946 non-null  object \n",
      " 29  YEAR                      11946 non-null  object \n",
      " 30  VALTYPE                   11946 non-null  object \n",
      " 31  Borough                   11514 non-null  object \n",
      " 32  Latitude                  11512 non-null  float64\n",
      " 33  Longitude                 11512 non-null  float64\n",
      " 34  Community Board           11512 non-null  float64\n",
      " 35  Council District          11512 non-null  float64\n",
      " 36  Census Tract              11512 non-null  float64\n",
      " 37  BIN                       11444 non-null  float64\n",
      " 38  NTA                       11512 non-null  object \n",
      " 39  New Georeferenced Column  11512 non-null  object \n",
      "dtypes: float64(14), int64(12), object(14)\n",
      "memory usage: 3.6+ MB\n"
     ]
    }
   ],
   "source": [
    "# XGBOOST, feature importances\n",
    "data = pd.read_csv(\"data/train_data.csv\")\n",
    "data.info()"
   ]
  },
  {
   "cell_type": "code",
   "execution_count": 3,
   "id": "canadian-saudi",
   "metadata": {},
   "outputs": [],
   "source": [
    "# GEOGRAFICZNIE UZUPELNIAMY NA PODSTAWIE BLOKÓW\n",
    "# geograficzne to:staddr, postcode, latitude, longitude, community board\n",
    "# council district, census tract, NTA\n",
    "# STORIES - BIERZEMY SREDNIA Z BLOKOW\n",
    "# ext na dwie kolumny e i g\n",
    "# EASEMENT - DWIE KOLUMNY E I N\n",
    "# obliczyc powierzchnie i normalizować"
   ]
  },
  {
   "cell_type": "code",
   "execution_count": 4,
   "id": "13f6919b",
   "metadata": {},
   "outputs": [],
   "source": [
    "def calc_average_from_block(dataset, block, column):\n",
    "    new_df = dataset[dataset[\"BLOCK\"] == block]\n",
    "    return new_df[column].mean()\n",
    "\n",
    "def calc_postal_code(data, block, column): # postcode, community board, council district, census tract\n",
    "    new_df = data[data[\"BLOCK\"] == block]\n",
    "    return max(new_df[column].unique())\n",
    "\n",
    "def calc_district(data, block, column):\n",
    "    new_df = data[data[\"BLOCK\"] == block]\n",
    "    return new_df[column].unique()[0]\n",
    "\n",
    "def remove_outlier(df_in, col_name):\n",
    "    q1 = df_in[col_name].quantile(0.25)\n",
    "    q3 = df_in[col_name].quantile(0.75)\n",
    "    iqr = q3-q1 #Interquartile range\n",
    "    fence_low  = q1-1.5*iqr\n",
    "    fence_high = q3+1.5*iqr\n",
    "    df_out = df_in.loc[(df_in[col_name] > fence_low) & (df_in[col_name] < fence_high)]\n",
    "    return df_out"
   ]
  },
  {
   "cell_type": "code",
   "execution_count": 5,
   "id": "current-gamma",
   "metadata": {},
   "outputs": [],
   "source": [
    "def prepare_data(data):\n",
    "    data.drop(labels=[\"BBLE\", \"LOT\",\"PERIOD\", \"VALTYPE\",\n",
    "                  \"Borough\", \"New Georeferenced Column\",\n",
    "                  \"OWNER\", \"BIN\", \"EXCD1\", \"EXCD2\",\n",
    "                  \"EXMPTCL\", \"YEAR\", \"STADDR\"],axis=1, inplace=True)\n",
    "    data[\"EASEMENT\"] = data[\"EASEMENT\"].fillna(\"0\")\n",
    "    data[\"EXT\"] = data[\"EXT\"].fillna(\"0\")\n",
    "    data[\"EXLAND2\"] = data[\"EXLAND2\"].fillna(0)\n",
    "    data[\"EXTOT2\"] = data[\"EXTOT2\"].fillna(0)\n",
    "    data[\"AVLAND2\"] = data[\"AVLAND2\"].fillna(0)\n",
    "    data[\"AVTOT2\"] = data[\"AVTOT2\"].fillna(0)\n",
    "    data.loc[(data[\"EASEMENT\"] == \"F\"), \"EASEMENT\"] = \"E\"\n",
    "    data.loc[(data[\"EASEMENT\"] == \"G\"), \"EASEMENT\"] = \"E\"\n",
    "    data.loc[(data[\"EASEMENT\"] == \"H\"), \"EASEMENT\"] = \"E\"\n",
    "    data.loc[(data[\"EASEMENT\"] == \"I\"), \"EASEMENT\"] = \"E\"\n",
    "    data[\"EXT_E\"] = 0\n",
    "    data[\"EXT_G\"] = 0\n",
    "    data[\"EASEMENT_E\"] = 0\n",
    "    data[\"EASEMENT_N\"] = 0\n",
    "    data.loc[(data[\"EXT\"] == \"E\"), \"EXT_E\"] = 1\n",
    "    data.loc[(data[\"EXT\"] == \"EG\"), \"EXT_E\"] = 1\n",
    "    data.loc[(data[\"EXT\"] == \"G\"), \"EXT_G\"] = 1\n",
    "    data.loc[(data[\"EXT\"] == \"EG\"), \"EXT_G\"] = 1\n",
    "    data.loc[(data[\"EASEMENT\"] == \"E\"), \"EASEMENT_E\"] = 1\n",
    "    data.loc[(data[\"EASEMENT\"] == \"N\"), \"EASEMENT_N\"] = 1\n",
    "    data.drop([\"EXT\", \"EASEMENT\"], axis=1, inplace=True)\n",
    "    data[\"STORIES\"].fillna(method=\"ffill\", inplace=True)\n",
    "    data[\"POSTCODE\"].loc[data[\"POSTCODE\"].isnull()] = calc_postal_code(data, data[\"BLOCK\"], \"POSTCODE\")\n",
    "    data[\"Community Board\"].loc[data[\"Community Board\"].isnull()] = calc_postal_code(data, data[\"BLOCK\"], \"Community Board\")\n",
    "    data[\"Council District\"].loc[data[\"Council District\"].isnull()] = calc_postal_code(data, data[\"BLOCK\"], \"Council District\")\n",
    "    data[\"Census Tract\"].loc[data[\"Census Tract\"].isnull()] = calc_postal_code(data, data[\"BLOCK\"], \"Census Tract\")\n",
    "    data[\"NTA\"].loc[data[\"NTA\"].isnull()] = calc_district(data, data[\"BLOCK\"], \"NTA\")\n",
    "    data[\"Latitude\"].loc[data[\"Latitude\"].isnull()] = calc_average_from_block(data, data[\"BLOCK\"], \"Latitude\")\n",
    "    data[\"Longitude\"].loc[data[\"Longitude\"].isnull()] = calc_average_from_block(data, data[\"BLOCK\"], \"Longitude\")\n",
    "    data[\"STORIES\"].loc[data[\"STORIES\"].isnull()] = calc_average_from_block(data, data[\"BLOCK\"], \"STORIES\")\n",
    "    data = data.loc[data[\"FULLVAL\"] != 0]\n",
    "    \n",
    "    le = preprocessing.LabelEncoder()\n",
    "    le.fit(data['BLDGCL'])\n",
    "    data.BLDGCL = le.transform(data.BLDGCL)\n",
    "    le.fit(data['NTA'])\n",
    "    data.NTA = le.transform(data.NTA)\n",
    "    le.fit(data['TAXCLASS'])\n",
    "    data.TAXCLASS = le.transform(data.TAXCLASS)\n",
    "    \n",
    "    sc = MinMaxScaler()\n",
    "    data['Latitude'] = sc.fit_transform(data['Latitude'].values.reshape(-1,1))\n",
    "    data['Longitude'] = sc.fit_transform(data['Longitude'].values.reshape(-1,1))\n",
    "    data['LTFRONT'] = sc.fit_transform(data['LTFRONT'].values.reshape(-1,1))\n",
    "    data['LTDEPTH'] = sc.fit_transform(data['LTDEPTH'].values.reshape(-1,1))\n",
    "    data['BLDDEPTH'] = sc.fit_transform(data['BLDDEPTH'].values.reshape(-1,1))\n",
    "    data['BLDFRONT'] = sc.fit_transform(data['BLDFRONT'].values.reshape(-1,1))\n",
    "    data = remove_outlier(data, \"AVLAND\")\n",
    "    data.drop(labels=[\"BLOCK\", \"POSTCODE\"],axis=1, inplace=True)\n",
    "    return data"
   ]
  },
  {
   "cell_type": "code",
   "execution_count": 6,
   "id": "material-nowhere",
   "metadata": {},
   "outputs": [],
   "source": [
    "def prepare_new_data(train_data, new_data):\n",
    "    number_of_new = len(new_data)\n",
    "    data = pd.concat([train_data, new_data])\n",
    "    data = prepare_data(data)\n",
    "    return data[len(data)-number_of_new:]"
   ]
  },
  {
   "cell_type": "code",
   "execution_count": 7,
   "id": "willing-newton",
   "metadata": {},
   "outputs": [
    {
     "name": "stderr",
     "output_type": "stream",
     "text": [
      "/home/szaryvip/.local/lib/python3.9/site-packages/pandas/core/indexing.py:1732: SettingWithCopyWarning: \n",
      "A value is trying to be set on a copy of a slice from a DataFrame\n",
      "\n",
      "See the caveats in the documentation: https://pandas.pydata.org/pandas-docs/stable/user_guide/indexing.html#returning-a-view-versus-a-copy\n",
      "  self._setitem_single_block(indexer, value, name)\n",
      "/home/szaryvip/.local/lib/python3.9/site-packages/pandas/core/generic.py:5516: SettingWithCopyWarning: \n",
      "A value is trying to be set on a copy of a slice from a DataFrame.\n",
      "Try using .loc[row_indexer,col_indexer] = value instead\n",
      "\n",
      "See the caveats in the documentation: https://pandas.pydata.org/pandas-docs/stable/user_guide/indexing.html#returning-a-view-versus-a-copy\n",
      "  self[name] = value\n",
      "<ipython-input-5-2cce1583bd41>:47: SettingWithCopyWarning: \n",
      "A value is trying to be set on a copy of a slice from a DataFrame.\n",
      "Try using .loc[row_indexer,col_indexer] = value instead\n",
      "\n",
      "See the caveats in the documentation: https://pandas.pydata.org/pandas-docs/stable/user_guide/indexing.html#returning-a-view-versus-a-copy\n",
      "  data['Latitude'] = sc.fit_transform(data['Latitude'].values.reshape(-1,1))\n",
      "<ipython-input-5-2cce1583bd41>:48: SettingWithCopyWarning: \n",
      "A value is trying to be set on a copy of a slice from a DataFrame.\n",
      "Try using .loc[row_indexer,col_indexer] = value instead\n",
      "\n",
      "See the caveats in the documentation: https://pandas.pydata.org/pandas-docs/stable/user_guide/indexing.html#returning-a-view-versus-a-copy\n",
      "  data['Longitude'] = sc.fit_transform(data['Longitude'].values.reshape(-1,1))\n",
      "<ipython-input-5-2cce1583bd41>:49: SettingWithCopyWarning: \n",
      "A value is trying to be set on a copy of a slice from a DataFrame.\n",
      "Try using .loc[row_indexer,col_indexer] = value instead\n",
      "\n",
      "See the caveats in the documentation: https://pandas.pydata.org/pandas-docs/stable/user_guide/indexing.html#returning-a-view-versus-a-copy\n",
      "  data['LTFRONT'] = sc.fit_transform(data['LTFRONT'].values.reshape(-1,1))\n",
      "<ipython-input-5-2cce1583bd41>:50: SettingWithCopyWarning: \n",
      "A value is trying to be set on a copy of a slice from a DataFrame.\n",
      "Try using .loc[row_indexer,col_indexer] = value instead\n",
      "\n",
      "See the caveats in the documentation: https://pandas.pydata.org/pandas-docs/stable/user_guide/indexing.html#returning-a-view-versus-a-copy\n",
      "  data['LTDEPTH'] = sc.fit_transform(data['LTDEPTH'].values.reshape(-1,1))\n",
      "<ipython-input-5-2cce1583bd41>:51: SettingWithCopyWarning: \n",
      "A value is trying to be set on a copy of a slice from a DataFrame.\n",
      "Try using .loc[row_indexer,col_indexer] = value instead\n",
      "\n",
      "See the caveats in the documentation: https://pandas.pydata.org/pandas-docs/stable/user_guide/indexing.html#returning-a-view-versus-a-copy\n",
      "  data['BLDDEPTH'] = sc.fit_transform(data['BLDDEPTH'].values.reshape(-1,1))\n",
      "<ipython-input-5-2cce1583bd41>:52: SettingWithCopyWarning: \n",
      "A value is trying to be set on a copy of a slice from a DataFrame.\n",
      "Try using .loc[row_indexer,col_indexer] = value instead\n",
      "\n",
      "See the caveats in the documentation: https://pandas.pydata.org/pandas-docs/stable/user_guide/indexing.html#returning-a-view-versus-a-copy\n",
      "  data['BLDFRONT'] = sc.fit_transform(data['BLDFRONT'].values.reshape(-1,1))\n"
     ]
    },
    {
     "data": {
      "text/plain": [
       "100"
      ]
     },
     "execution_count": 7,
     "metadata": {},
     "output_type": "execute_result"
    }
   ],
   "source": [
    "new_data = data[0:100]\n",
    "new_prepared = prepare_new_data(data, new_data)\n",
    "len(new_data)"
   ]
  },
  {
   "cell_type": "code",
   "execution_count": 8,
   "id": "b3065230",
   "metadata": {},
   "outputs": [],
   "source": [
    "def divide_data(data):\n",
    "    X = data.loc[:, data.columns != 'FULLVAL']\n",
    "    y = data[\"FULLVAL\"]\n",
    "    return X, y"
   ]
  },
  {
   "cell_type": "code",
   "execution_count": 9,
   "id": "roman-consortium",
   "metadata": {},
   "outputs": [],
   "source": [
    "def train_test(data):\n",
    "    train, test = skl.model_selection.train_test_split(data, test_size=25)\n",
    "    X_train, y_train = divide_data(train)\n",
    "    X_test, y_test = divide_data(test)\n",
    "    return X_train, y_train, X_test, y_test"
   ]
  },
  {
   "cell_type": "code",
   "execution_count": 10,
   "id": "motivated-organization",
   "metadata": {},
   "outputs": [],
   "source": [
    "def train_model(X_train, y_train):\n",
    "    model = xgboost.XGBRegressor(n_estimators=1000, max_depth=9, learning_rate = 0.01,\n",
    "                         eta=0.1, subsample=0.7, colsample_bytree=0.7)\n",
    "    model.fit(X_train, y_train)\n",
    "    return model"
   ]
  },
  {
   "cell_type": "code",
   "execution_count": 11,
   "id": "thousand-throat",
   "metadata": {},
   "outputs": [],
   "source": [
    "def save_model(X_train, y_train):\n",
    "    model = xgboost.XGBRegressor(n_estimators=1000, max_depth=9, learning_rate = 0.01,\n",
    "                         eta=0.1, subsample=0.7, colsample_bytree=0.7)\n",
    "    model.fit(X_train, y_train)\n",
    "    model.save_model('model.json')"
   ]
  },
  {
   "cell_type": "code",
   "execution_count": 12,
   "id": "curious-stack",
   "metadata": {},
   "outputs": [
    {
     "name": "stderr",
     "output_type": "stream",
     "text": [
      "/home/szaryvip/.local/lib/python3.9/site-packages/pandas/core/indexing.py:1732: SettingWithCopyWarning: \n",
      "A value is trying to be set on a copy of a slice from a DataFrame\n",
      "\n",
      "See the caveats in the documentation: https://pandas.pydata.org/pandas-docs/stable/user_guide/indexing.html#returning-a-view-versus-a-copy\n",
      "  self._setitem_single_block(indexer, value, name)\n",
      "/home/szaryvip/.local/lib/python3.9/site-packages/pandas/core/generic.py:5516: SettingWithCopyWarning: \n",
      "A value is trying to be set on a copy of a slice from a DataFrame.\n",
      "Try using .loc[row_indexer,col_indexer] = value instead\n",
      "\n",
      "See the caveats in the documentation: https://pandas.pydata.org/pandas-docs/stable/user_guide/indexing.html#returning-a-view-versus-a-copy\n",
      "  self[name] = value\n",
      "<ipython-input-5-2cce1583bd41>:47: SettingWithCopyWarning: \n",
      "A value is trying to be set on a copy of a slice from a DataFrame.\n",
      "Try using .loc[row_indexer,col_indexer] = value instead\n",
      "\n",
      "See the caveats in the documentation: https://pandas.pydata.org/pandas-docs/stable/user_guide/indexing.html#returning-a-view-versus-a-copy\n",
      "  data['Latitude'] = sc.fit_transform(data['Latitude'].values.reshape(-1,1))\n",
      "<ipython-input-5-2cce1583bd41>:48: SettingWithCopyWarning: \n",
      "A value is trying to be set on a copy of a slice from a DataFrame.\n",
      "Try using .loc[row_indexer,col_indexer] = value instead\n",
      "\n",
      "See the caveats in the documentation: https://pandas.pydata.org/pandas-docs/stable/user_guide/indexing.html#returning-a-view-versus-a-copy\n",
      "  data['Longitude'] = sc.fit_transform(data['Longitude'].values.reshape(-1,1))\n",
      "<ipython-input-5-2cce1583bd41>:49: SettingWithCopyWarning: \n",
      "A value is trying to be set on a copy of a slice from a DataFrame.\n",
      "Try using .loc[row_indexer,col_indexer] = value instead\n",
      "\n",
      "See the caveats in the documentation: https://pandas.pydata.org/pandas-docs/stable/user_guide/indexing.html#returning-a-view-versus-a-copy\n",
      "  data['LTFRONT'] = sc.fit_transform(data['LTFRONT'].values.reshape(-1,1))\n",
      "<ipython-input-5-2cce1583bd41>:50: SettingWithCopyWarning: \n",
      "A value is trying to be set on a copy of a slice from a DataFrame.\n",
      "Try using .loc[row_indexer,col_indexer] = value instead\n",
      "\n",
      "See the caveats in the documentation: https://pandas.pydata.org/pandas-docs/stable/user_guide/indexing.html#returning-a-view-versus-a-copy\n",
      "  data['LTDEPTH'] = sc.fit_transform(data['LTDEPTH'].values.reshape(-1,1))\n",
      "<ipython-input-5-2cce1583bd41>:51: SettingWithCopyWarning: \n",
      "A value is trying to be set on a copy of a slice from a DataFrame.\n",
      "Try using .loc[row_indexer,col_indexer] = value instead\n",
      "\n",
      "See the caveats in the documentation: https://pandas.pydata.org/pandas-docs/stable/user_guide/indexing.html#returning-a-view-versus-a-copy\n",
      "  data['BLDDEPTH'] = sc.fit_transform(data['BLDDEPTH'].values.reshape(-1,1))\n",
      "<ipython-input-5-2cce1583bd41>:52: SettingWithCopyWarning: \n",
      "A value is trying to be set on a copy of a slice from a DataFrame.\n",
      "Try using .loc[row_indexer,col_indexer] = value instead\n",
      "\n",
      "See the caveats in the documentation: https://pandas.pydata.org/pandas-docs/stable/user_guide/indexing.html#returning-a-view-versus-a-copy\n",
      "  data['BLDFRONT'] = sc.fit_transform(data['BLDFRONT'].values.reshape(-1,1))\n"
     ]
    }
   ],
   "source": [
    "data = pd.read_csv(\"data/train_data.csv\")\n",
    "data = prepare_data(data)\n",
    "X, y = divide_data(data)\n",
    "save_model(X, y)"
   ]
  },
  {
   "cell_type": "code",
   "execution_count": 13,
   "id": "naval-kazakhstan",
   "metadata": {},
   "outputs": [],
   "source": [
    "def best_params_xgb():\n",
    "    params = { 'max_depth': [5,7,9],\n",
    "               'learning_rate': [0.01, 0.05, 0.1],\n",
    "               'n_estimators': [1000],\n",
    "               'colsample_bytree': [0.7],\n",
    "               'eta': [0.1, 0.3, 0.5]}\n",
    "    xgbr = xgboost.XGBRegressor(seed = 20)\n",
    "    clf = GridSearchCV(estimator=xgbr, \n",
    "                       param_grid=params,\n",
    "                       scoring='neg_mean_squared_error', \n",
    "                       verbose=1)\n",
    "    clf.fit(X, y)\n",
    "    print(\"Best parameters:\", clf.best_params_)\n",
    "    print(\"Lowest RMSE: \", (-clf.best_score_)**(1/2.0))"
   ]
  },
  {
   "cell_type": "code",
   "execution_count": 14,
   "id": "competent-giant",
   "metadata": {},
   "outputs": [
    {
     "data": {
      "image/png": "[encoded data removed]",
      "text/plain": [
       "<Figure size 432x288 with 1 Axes>"
      ]
     },
     "metadata": {
      "needs_background": "light"
     },
     "output_type": "display_data"
    }
   ],
   "source": [
    "model = xgboost.XGBRegressor()\n",
    "model.load_model('model.json')\n",
    "# col = data.loc[:,data.columns != 'FULLVAL'].columns.values.tolist()\n",
    "# # plt.bar(col, model.feature_importances_)\n",
    "xgboost.plot_importance(model)\n",
    "plt.show()\n",
    "\n",
    "# data.describe()"
   ]
  },
  {
   "cell_type": "code",
   "execution_count": 15,
   "id": "metric-trunk",
   "metadata": {},
   "outputs": [
    {
     "data": {
      "text/plain": [
       "52818.785390014644"
      ]
     },
     "execution_count": 15,
     "metadata": {},
     "output_type": "execute_result"
    }
   ],
   "source": [
    "y = []\n",
    "for _ in range(20):\n",
    "    X_train, y_train, X_test, y_test = train_test(data)\n",
    "    model = train_model(X_train, y_train)\n",
    "    predictions = model.predict(X_test)\n",
    "    y.append(metrics.mean_absolute_error(predictions, y_test))\n",
    "sum(y)/len(y)"
   ]
  },
  {
   "cell_type": "code",
   "execution_count": 16,
   "id": "separated-removal",
   "metadata": {},
   "outputs": [
    {
     "data": {
      "text/plain": [
       "31951.096956469897"
      ]
     },
     "execution_count": 16,
     "metadata": {},
     "output_type": "execute_result"
    }
   ],
   "source": [
    "np.std(y)"
   ]
  },
  {
   "cell_type": "code",
   "execution_count": 17,
   "id": "dying-resort",
   "metadata": {},
   "outputs": [],
   "source": [
    "def best_bldgcl(model, classes, data_row):\n",
    "    current_value = data_row[\"FULLVAL\"]\n",
    "    predictions_for_cl = {}\n",
    "    for cl in classes:\n",
    "        data_row[\"BLDGCL\"] = cl\n",
    "        prediction_for_cl[cl] = model.predict(data_row)\n",
    "    return max(predictions_for_cl, key=predictions_for_cl.get)\n",
    "    "
   ]
  },
  {
   "cell_type": "code",
   "execution_count": 18,
   "id": "assigned-positive",
   "metadata": {},
   "outputs": [
    {
     "name": "stderr",
     "output_type": "stream",
     "text": [
      "/home/szaryvip/.local/lib/python3.9/site-packages/pandas/core/series.py:1056: SettingWithCopyWarning: \n",
      "A value is trying to be set on a copy of a slice from a DataFrame\n",
      "\n",
      "See the caveats in the documentation: https://pandas.pydata.org/pandas-docs/stable/user_guide/indexing.html#returning-a-view-versus-a-copy\n",
      "  cacher_needs_updating = self._check_is_chained_assignment_possible()\n"
     ]
    },
    {
     "ename": "ValueError",
     "evalue": "training data did not have the following fields: BORO, BLDGCL, TAXCLASS, LTFRONT, LTDEPTH, STORIES, AVLAND, AVTOT, EXLAND, EXTOT, BLDFRONT, BLDDEPTH, AVLAND2, AVTOT2, EXLAND2, EXTOT2, Latitude, Longitude, Community Board, Council District, Census Tract, NTA, EXT_E, EXT_G, EASEMENT_E, EASEMENT_N",
     "output_type": "error",
     "traceback": [
      "\u001b[0;31m---------------------------------------------------------------------------\u001b[0m",
      "\u001b[0;31mValueError\u001b[0m                                Traceback (most recent call last)",
      "\u001b[0;32m<ipython-input-18-14cb8c407375>\u001b[0m in \u001b[0;36m<module>\u001b[0;34m\u001b[0m\n\u001b[1;32m      1\u001b[0m \u001b[0mdata_row\u001b[0m \u001b[0;34m=\u001b[0m \u001b[0mdata\u001b[0m\u001b[0;34m.\u001b[0m\u001b[0mloc\u001b[0m\u001b[0;34m[\u001b[0m\u001b[0;36m2000\u001b[0m\u001b[0;34m]\u001b[0m\u001b[0;34m\u001b[0m\u001b[0;34m\u001b[0m\u001b[0m\n\u001b[1;32m      2\u001b[0m \u001b[0mclasses\u001b[0m \u001b[0;34m=\u001b[0m \u001b[0mdata\u001b[0m\u001b[0;34m[\u001b[0m\u001b[0;34m\"BLDGCL\"\u001b[0m\u001b[0;34m]\u001b[0m\u001b[0;34m.\u001b[0m\u001b[0munique\u001b[0m\u001b[0;34m(\u001b[0m\u001b[0;34m)\u001b[0m\u001b[0;34m\u001b[0m\u001b[0;34m\u001b[0m\u001b[0m\n\u001b[0;32m----> 3\u001b[0;31m \u001b[0mprint\u001b[0m\u001b[0;34m(\u001b[0m\u001b[0mbest_bldgcl\u001b[0m\u001b[0;34m(\u001b[0m\u001b[0mmodel\u001b[0m\u001b[0;34m,\u001b[0m \u001b[0mclasses\u001b[0m\u001b[0;34m,\u001b[0m \u001b[0mdata_row\u001b[0m\u001b[0;34m)\u001b[0m\u001b[0;34m)\u001b[0m\u001b[0;34m\u001b[0m\u001b[0;34m\u001b[0m\u001b[0m\n\u001b[0m",
      "\u001b[0;32m<ipython-input-17-7759f5ce593b>\u001b[0m in \u001b[0;36mbest_bldgcl\u001b[0;34m(model, classes, data_row)\u001b[0m\n\u001b[1;32m      4\u001b[0m     \u001b[0;32mfor\u001b[0m \u001b[0mcl\u001b[0m \u001b[0;32min\u001b[0m \u001b[0mclasses\u001b[0m\u001b[0;34m:\u001b[0m\u001b[0;34m\u001b[0m\u001b[0;34m\u001b[0m\u001b[0m\n\u001b[1;32m      5\u001b[0m         \u001b[0mdata_row\u001b[0m\u001b[0;34m[\u001b[0m\u001b[0;34m\"BLDGCL\"\u001b[0m\u001b[0;34m]\u001b[0m \u001b[0;34m=\u001b[0m \u001b[0mcl\u001b[0m\u001b[0;34m\u001b[0m\u001b[0;34m\u001b[0m\u001b[0m\n\u001b[0;32m----> 6\u001b[0;31m         \u001b[0mprediction_for_cl\u001b[0m\u001b[0;34m[\u001b[0m\u001b[0mcl\u001b[0m\u001b[0;34m]\u001b[0m \u001b[0;34m=\u001b[0m \u001b[0mmodel\u001b[0m\u001b[0;34m.\u001b[0m\u001b[0mpredict\u001b[0m\u001b[0;34m(\u001b[0m\u001b[0mdata_row\u001b[0m\u001b[0;34m)\u001b[0m\u001b[0;34m\u001b[0m\u001b[0;34m\u001b[0m\u001b[0m\n\u001b[0m\u001b[1;32m      7\u001b[0m     \u001b[0;32mreturn\u001b[0m \u001b[0mmax\u001b[0m\u001b[0;34m(\u001b[0m\u001b[0mpredictions_for_cl\u001b[0m\u001b[0;34m,\u001b[0m \u001b[0mkey\u001b[0m\u001b[0;34m=\u001b[0m\u001b[0mpredictions_for_cl\u001b[0m\u001b[0;34m.\u001b[0m\u001b[0mget\u001b[0m\u001b[0;34m)\u001b[0m\u001b[0;34m\u001b[0m\u001b[0;34m\u001b[0m\u001b[0m\n\u001b[1;32m      8\u001b[0m \u001b[0;34m\u001b[0m\u001b[0m\n",
      "\u001b[0;32m~/.local/lib/python3.9/site-packages/xgboost/sklearn.py\u001b[0m in \u001b[0;36mpredict\u001b[0;34m(self, X, output_margin, ntree_limit, validate_features, base_margin, iteration_range)\u001b[0m\n\u001b[1;32m    901\u001b[0m             \u001b[0menable_categorical\u001b[0m\u001b[0;34m=\u001b[0m\u001b[0mself\u001b[0m\u001b[0;34m.\u001b[0m\u001b[0menable_categorical\u001b[0m\u001b[0;34m\u001b[0m\u001b[0;34m\u001b[0m\u001b[0m\n\u001b[1;32m    902\u001b[0m         )\n\u001b[0;32m--> 903\u001b[0;31m         return self.get_booster().predict(\n\u001b[0m\u001b[1;32m    904\u001b[0m             \u001b[0mdata\u001b[0m\u001b[0;34m=\u001b[0m\u001b[0mtest\u001b[0m\u001b[0;34m,\u001b[0m\u001b[0;34m\u001b[0m\u001b[0;34m\u001b[0m\u001b[0m\n\u001b[1;32m    905\u001b[0m             \u001b[0miteration_range\u001b[0m\u001b[0;34m=\u001b[0m\u001b[0miteration_range\u001b[0m\u001b[0;34m,\u001b[0m\u001b[0;34m\u001b[0m\u001b[0;34m\u001b[0m\u001b[0m\n",
      "\u001b[0;32m~/.local/lib/python3.9/site-packages/xgboost/core.py\u001b[0m in \u001b[0;36mpredict\u001b[0;34m(self, data, output_margin, ntree_limit, pred_leaf, pred_contribs, approx_contribs, pred_interactions, validate_features, training, iteration_range, strict_shape)\u001b[0m\n\u001b[1;32m   1885\u001b[0m             \u001b[0;32mraise\u001b[0m \u001b[0mTypeError\u001b[0m\u001b[0;34m(\u001b[0m\u001b[0;34m'Expecting data to be a DMatrix object, got: '\u001b[0m\u001b[0;34m,\u001b[0m \u001b[0mtype\u001b[0m\u001b[0;34m(\u001b[0m\u001b[0mdata\u001b[0m\u001b[0;34m)\u001b[0m\u001b[0;34m)\u001b[0m\u001b[0;34m\u001b[0m\u001b[0;34m\u001b[0m\u001b[0m\n\u001b[1;32m   1886\u001b[0m         \u001b[0;32mif\u001b[0m \u001b[0mvalidate_features\u001b[0m\u001b[0;34m:\u001b[0m\u001b[0;34m\u001b[0m\u001b[0;34m\u001b[0m\u001b[0m\n\u001b[0;32m-> 1887\u001b[0;31m             \u001b[0mself\u001b[0m\u001b[0;34m.\u001b[0m\u001b[0m_validate_features\u001b[0m\u001b[0;34m(\u001b[0m\u001b[0mdata\u001b[0m\u001b[0;34m)\u001b[0m\u001b[0;34m\u001b[0m\u001b[0;34m\u001b[0m\u001b[0m\n\u001b[0m\u001b[1;32m   1888\u001b[0m         \u001b[0miteration_range\u001b[0m \u001b[0;34m=\u001b[0m \u001b[0m_convert_ntree_limit\u001b[0m\u001b[0;34m(\u001b[0m\u001b[0mself\u001b[0m\u001b[0;34m,\u001b[0m \u001b[0mntree_limit\u001b[0m\u001b[0;34m,\u001b[0m \u001b[0miteration_range\u001b[0m\u001b[0;34m)\u001b[0m\u001b[0;34m\u001b[0m\u001b[0;34m\u001b[0m\u001b[0m\n\u001b[1;32m   1889\u001b[0m         args = {\n",
      "\u001b[0;32m~/.local/lib/python3.9/site-packages/xgboost/core.py\u001b[0m in \u001b[0;36m_validate_features\u001b[0;34m(self, data)\u001b[0m\n\u001b[1;32m   2464\u001b[0m             \u001b[0mself\u001b[0m\u001b[0;34m.\u001b[0m\u001b[0mfeature_types\u001b[0m \u001b[0;34m=\u001b[0m \u001b[0mdata\u001b[0m\u001b[0;34m.\u001b[0m\u001b[0mfeature_types\u001b[0m\u001b[0;34m\u001b[0m\u001b[0;34m\u001b[0m\u001b[0m\n\u001b[1;32m   2465\u001b[0m         \u001b[0;32mif\u001b[0m \u001b[0mdata\u001b[0m\u001b[0;34m.\u001b[0m\u001b[0mfeature_names\u001b[0m \u001b[0;32mis\u001b[0m \u001b[0;32mNone\u001b[0m \u001b[0;32mand\u001b[0m \u001b[0mself\u001b[0m\u001b[0;34m.\u001b[0m\u001b[0mfeature_names\u001b[0m \u001b[0;32mis\u001b[0m \u001b[0;32mnot\u001b[0m \u001b[0;32mNone\u001b[0m\u001b[0;34m:\u001b[0m\u001b[0;34m\u001b[0m\u001b[0;34m\u001b[0m\u001b[0m\n\u001b[0;32m-> 2466\u001b[0;31m             raise ValueError(\n\u001b[0m\u001b[1;32m   2467\u001b[0m                 \u001b[0;34m\"training data did not have the following fields: \"\u001b[0m \u001b[0;34m+\u001b[0m\u001b[0;34m\u001b[0m\u001b[0;34m\u001b[0m\u001b[0m\n\u001b[1;32m   2468\u001b[0m                 \u001b[0;34m\", \"\u001b[0m\u001b[0;34m.\u001b[0m\u001b[0mjoin\u001b[0m\u001b[0;34m(\u001b[0m\u001b[0mself\u001b[0m\u001b[0;34m.\u001b[0m\u001b[0mfeature_names\u001b[0m\u001b[0;34m)\u001b[0m\u001b[0;34m\u001b[0m\u001b[0;34m\u001b[0m\u001b[0m\n",
      "\u001b[0;31mValueError\u001b[0m: training data did not have the following fields: BORO, BLDGCL, TAXCLASS, LTFRONT, LTDEPTH, STORIES, AVLAND, AVTOT, EXLAND, EXTOT, BLDFRONT, BLDDEPTH, AVLAND2, AVTOT2, EXLAND2, EXTOT2, Latitude, Longitude, Community Board, Council District, Census Tract, NTA, EXT_E, EXT_G, EASEMENT_E, EASEMENT_N"
     ]
    }
   ],
   "source": [
    "data_row = data.loc[2000]\n",
    "classes = data[\"BLDGCL\"].unique()\n",
    "print(best_bldgcl(model, classes, data_row))"
   ]
  }
 ],
 "metadata": {
  "kernelspec": {
   "display_name": "Python 3",
   "language": "python",
   "name": "python3"
  },
  "language_info": {
   "codemirror_mode": {
    "name": "ipython",
    "version": 3
   },
   "file_extension": ".py",
   "mimetype": "text/x-python",
   "name": "python",
   "nbconvert_exporter": "python",
   "pygments_lexer": "ipython3",
   "version": "3.9.7"
  }
 },
 "nbformat": 4,
 "nbformat_minor": 5
}

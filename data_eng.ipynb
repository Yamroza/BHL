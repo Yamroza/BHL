{
 "cells": [
  {
   "cell_type": "code",
   "execution_count": 1,
   "id": "silent-outside",
   "metadata": {},
   "outputs": [],
   "source": [
    "import pandas as pd\n",
    "import numpy as np\n",
    "import seaborn as sn\n",
    "import matplotlib.pyplot as plt\n",
    "from sklearn import preprocessing, metrics\n",
    "import sklearn as skl\n",
    "import xgboost\n",
    "import math\n",
    "from sklearn.model_selection import cross_val_score\n",
    "from sklearn.model_selection import RepeatedKFold\n",
    "from sklearn.preprocessing import MinMaxScaler"
   ]
  },
  {
   "cell_type": "code",
   "execution_count": 2,
   "id": "turned-florida",
   "metadata": {},
   "outputs": [],
   "source": [
    "# XGBOOST, feature importances"
   ]
  },
  {
   "cell_type": "code",
   "execution_count": 3,
   "id": "canadian-saudi",
   "metadata": {},
   "outputs": [],
   "source": [
    "# GEOGRAFICZNIE UZUPELNIAMY NA PODSTAWIE BLOKÓW\n",
    "# geograficzne to:staddr, postcode, latitude, longitude, community board\n",
    "# council district, census tract, NTA\n",
    "# STORIES - BIERZEMY SREDNIA Z BLOKOW\n",
    "# ext na dwie kolumny e i g\n",
    "# EASEMENT - DWIE KOLUMNY E I N\n",
    "# obliczyc powierzchnie i normalizować"
   ]
  },
  {
   "cell_type": "code",
   "execution_count": 4,
   "id": "13f6919b",
   "metadata": {},
   "outputs": [],
   "source": [
    "def calc_average_from_block(dataset, block, column):\n",
    "    new_df = dataset[dataset[\"BLOCK\"] == block]\n",
    "    return new_df[column].mean()\n",
    "\n",
    "def calc_postal_code(data, block, column): # postcode, community board, council district, census tract\n",
    "    new_df = data[data[\"BLOCK\"] == block]\n",
    "    return max(new_df[column].unique())\n",
    "\n",
    "def calc_district(data, block, column):\n",
    "    new_df = data[data[\"BLOCK\"] == block]\n",
    "    return new_df[column].unique()[0]"
   ]
  },
  {
   "cell_type": "code",
   "execution_count": 5,
   "id": "current-gamma",
   "metadata": {},
   "outputs": [],
   "source": [
    "def prepare_data(path):\n",
    "    data = pd.read_csv(path)\n",
    "    data.drop(labels=[\"BBLE\", \"LOT\",\"PERIOD\", \"VALTYPE\",\n",
    "                  \"Borough\", \"New Georeferenced Column\",\n",
    "                  \"OWNER\", \"AVLAND2\", \"AVTOT2\",\n",
    "                  \"EXLAND2\", \"EXTOT2\",\"BIN\", \"EXCD1\", \"EXCD2\",\n",
    "                  \"EXMPTCL\", \"YEAR\", \"STADDR\"],axis=1, inplace=True)\n",
    "    data[\"EASEMENT\"] = data[\"EASEMENT\"].fillna(\"0\")\n",
    "    data[\"EXT\"] = data[\"EXT\"].fillna(\"0\")\n",
    "    data.loc[(data[\"EASEMENT\"] == \"F\"), \"EASEMENT\"] = \"E\"\n",
    "    data.loc[(data[\"EASEMENT\"] == \"G\"), \"EASEMENT\"] = \"E\"\n",
    "    data.loc[(data[\"EASEMENT\"] == \"H\"), \"EASEMENT\"] = \"E\"\n",
    "    data.loc[(data[\"EASEMENT\"] == \"I\"), \"EASEMENT\"] = \"E\"\n",
    "    data[\"EXT_E\"] = 0\n",
    "    data[\"EXT_G\"] = 0\n",
    "    data[\"EASEMENT_E\"] = 0\n",
    "    data[\"EASEMENT_N\"] = 0\n",
    "    data.loc[(data[\"EXT\"] == \"E\"), \"EXT_E\"] = 1\n",
    "    data.loc[(data[\"EXT\"] == \"EG\"), \"EXT_E\"] = 1\n",
    "    data.loc[(data[\"EXT\"] == \"G\"), \"EXT_G\"] = 1\n",
    "    data.loc[(data[\"EXT\"] == \"EG\"), \"EXT_G\"] = 1\n",
    "    data.loc[(data[\"EASEMENT\"] == \"E\"), \"EASEMENT_E\"] = 1\n",
    "    data.loc[(data[\"EASEMENT\"] == \"N\"), \"EASEMENT_N\"] = 1\n",
    "    data.drop([\"EXT\", \"EASEMENT\"], axis=1, inplace=True)\n",
    "    data[\"STORIES\"].fillna(method=\"ffill\", inplace=True)\n",
    "    data[\"POSTCODE\"].loc[data[\"POSTCODE\"].isnull()] = calc_postal_code(data, data[\"BLOCK\"], \"POSTCODE\")\n",
    "    data[\"Community Board\"].loc[data[\"Community Board\"].isnull()] = calc_postal_code(data, data[\"BLOCK\"], \"Community Board\")\n",
    "    data[\"Council District\"].loc[data[\"Council District\"].isnull()] = calc_postal_code(data, data[\"BLOCK\"], \"Council District\")\n",
    "    data[\"Census Tract\"].loc[data[\"Census Tract\"].isnull()] = calc_postal_code(data, data[\"BLOCK\"], \"Census Tract\")\n",
    "    data[\"NTA\"].loc[data[\"NTA\"].isnull()] = calc_district(data, data[\"BLOCK\"], \"NTA\")\n",
    "    data[\"Latitude\"].loc[data[\"Latitude\"].isnull()] = calc_average_from_block(data, data[\"BLOCK\"], \"Latitude\")\n",
    "    data[\"Longitude\"].loc[data[\"Longitude\"].isnull()] = calc_average_from_block(data, data[\"BLOCK\"], \"Longitude\")\n",
    "    data[\"STORIES\"].loc[data[\"STORIES\"].isnull()] = calc_average_from_block(data, data[\"BLOCK\"], \"STORIES\")\n",
    "    data = data.loc[data[\"FULLVAL\"] != 0]\n",
    "    \n",
    "    le = preprocessing.OneHotEncoder()\n",
    "    encoded_fit = le.fit_transform(data.BLDGCL.values.reshape(-1,1))\n",
    "    encoded_fit.toarray()\n",
    "    dummies = pd.get_dummies(data[[\"BLDGCL\"]])\n",
    "    data = pd.concat([data, dummies], axis = 1)\n",
    "    \n",
    "    encoded_fit = le.fit_transform(data.NTA.values.reshape(-1,1))\n",
    "    encoded_fit.toarray()\n",
    "    dummies = pd.get_dummies(data[[\"NTA\"]])\n",
    "    data = pd.concat([data, dummies], axis = 1)\n",
    "    \n",
    "    encoded_fit = le.fit_transform(data.TAXCLASS.values.reshape(-1,1))\n",
    "    encoded_fit.toarray()\n",
    "    dummies = pd.get_dummies(data[[\"TAXCLASS\"]])\n",
    "    data = pd.concat([data, dummies], axis = 1)\n",
    "    \n",
    "    encoded_fit = le.fit_transform(data.POSTCODE.values.reshape(-1,1))\n",
    "    encoded_fit.toarray()\n",
    "    dummies = pd.get_dummies(data[[\"POSTCODE\"]])\n",
    "    data = pd.concat([data, dummies], axis = 1)\n",
    "    \n",
    "    data.drop(labels=[\"BLDGCL\", \"NTA\",\"TAXCLASS\",\"POSTCODE\"] ,axis=1, inplace=True)\n",
    "    \n",
    "#     le = preprocessing.LabelEncoder()\n",
    "#     le.fit(data['BLDGCL'])\n",
    "#     data.BLDGCL = le.transform(data.BLDGCL)\n",
    "#     le.fit(data['NTA'])\n",
    "#     data.NTA = le.transform(data.NTA)\n",
    "#     le.fit(data['TAXCLASS'])\n",
    "#     data.TAXCLASS = le.transform(data.TAXCLASS)\n",
    "#     le.fit(data['POSTCODE'])\n",
    "#     data.POSTCODE = le.transform(data.POSTCODE)\n",
    "    \n",
    "    sc = MinMaxScaler()\n",
    "    data['Latitude'] = sc.fit_transform(data['Latitude'].values.reshape(-1,1))\n",
    "    data['Longitude'] = sc.fit_transform(data['Longitude'].values.reshape(-1,1))\n",
    "    data['LTFRONT'] = sc.fit_transform(data['LTFRONT'].values.reshape(-1,1))\n",
    "    data['LTDEPTH'] = sc.fit_transform(data['LTDEPTH'].values.reshape(-1,1))\n",
    "    data['BLDDEPTH'] = sc.fit_transform(data['BLDDEPTH'].values.reshape(-1,1))\n",
    "    data['BLDFRONT'] = sc.fit_transform(data['BLDFRONT'].values.reshape(-1,1))\n",
    "#     data['AVLAND'] = sc.fit_transform(data['AVLAND'].values.reshape(-1,1))\n",
    "#     data['AVTOT'] = sc.fit_transform(data['AVTOT'].values.reshape(-1,1))\n",
    "#     data['EXLAND'] = sc.fit_transform(data['EXLAND'].values.reshape(-1,1))\n",
    "#     data['EXTOT'] = sc.fit_transform(data['EXTOT'].values.reshape(-1,1))\n",
    "#     data[\"AVLAND\"] = np.log10(data[\"AVLAND\"].loc[data[\"AVLAND\"] != 0])\n",
    "#     data[\"AVTOT\"] = np.log10(data[\"AVTOT\"].loc[data[\"AVTOT\"] != 0])\n",
    "#     data[\"EXLAND\"] = np.log10(data[\"EXLAND\"].loc[data[\"EXLAND\"] != 0])\n",
    "#     data[\"EXTOT\"] = np.log10(data[\"EXTOT\"].loc[data[\"EXTOT\"] != 0])\n",
    "    data.drop(labels=[\"BLOCK\"],axis=1, inplace=True)\n",
    "    return data"
   ]
  },
  {
   "cell_type": "code",
   "execution_count": 6,
   "id": "b3065230",
   "metadata": {},
   "outputs": [],
   "source": [
    "def divide_data(data):\n",
    "    X = data.loc[:, data.columns != 'FULLVAL']\n",
    "    y = data[\"FULLVAL\"]\n",
    "    return X, y"
   ]
  },
  {
   "cell_type": "code",
   "execution_count": 7,
   "id": "aboriginal-philip",
   "metadata": {},
   "outputs": [],
   "source": [
    "def train_test(data):\n",
    "    train, test = skl.model_selection.train_test_split(data, test_size=25)\n",
    "    X_train, y_train = divide_data(train)\n",
    "    X_test, y_test = divide_data(test)\n",
    "    return X_train, y_train, X_test, y_test"
   ]
  },
  {
   "cell_type": "code",
   "execution_count": 8,
   "id": "fatty-texture",
   "metadata": {},
   "outputs": [],
   "source": [
    "def train_model(X_train, y_train):\n",
    "    model = xgboost.XGBRegressor(n_estimators=1000, max_depth=7,\n",
    "                         eta=0.1, subsample=0.7, colsample_bytree=0.8)\n",
    "    model.fit(X_train, y_train)\n",
    "    return model"
   ]
  },
  {
   "cell_type": "code",
   "execution_count": 9,
   "id": "verbal-clerk",
   "metadata": {},
   "outputs": [],
   "source": [
    "def save_model(X_train, y_train):\n",
    "    model = xgboost.XGBRegressor(n_estimators=1000, max_depth=7,\n",
    "                         eta=0.1, subsample=0.7, colsample_bytree=0.8)\n",
    "    model.fit(X_train, y_train)\n",
    "    model.save_model('model.json')"
   ]
  },
  {
   "cell_type": "code",
   "execution_count": 10,
   "id": "interested-concert",
   "metadata": {},
   "outputs": [
    {
     "name": "stderr",
     "output_type": "stream",
     "text": [
      "/home/szaryvip/.local/lib/python3.9/site-packages/pandas/core/indexing.py:1732: SettingWithCopyWarning: \n",
      "A value is trying to be set on a copy of a slice from a DataFrame\n",
      "\n",
      "See the caveats in the documentation: https://pandas.pydata.org/pandas-docs/stable/user_guide/indexing.html#returning-a-view-versus-a-copy\n",
      "  self._setitem_single_block(indexer, value, name)\n"
     ]
    }
   ],
   "source": [
    "data = prepare_data(\"data/train_data.csv\")\n",
    "X, y = divide_data(data)\n",
    "save_model(X, y)"
   ]
  },
  {
   "cell_type": "code",
   "execution_count": 16,
   "id": "regulation-uncertainty",
   "metadata": {},
   "outputs": [
    {
     "data": {
      "image/png": "[encoded data removed]",
      "text/plain": [
       "<Figure size 432x288 with 1 Axes>"
      ]
     },
     "metadata": {
      "needs_background": "light"
     },
     "output_type": "display_data"
    },
    {
     "data": {
      "text/plain": [
       "<Figure size 432x288 with 0 Axes>"
      ]
     },
     "metadata": {},
     "output_type": "display_data"
    }
   ],
   "source": [
    "model = xgboost.XGBRegressor()\n",
    "model.load_model('model.json')\n",
    "# col = data.loc[:,data.columns != 'FULLVAL'].columns.values.tolist()\n",
    "# # plt.bar(col, model.feature_importances_)\n",
    "xgboost.plot_importance(model)\n",
    "plt.show()\n",
    "\n",
    "# data.describe()"
   ]
  },
  {
   "cell_type": "code",
   "execution_count": 12,
   "id": "pediatric-storage",
   "metadata": {},
   "outputs": [
    {
     "ename": "KeyboardInterrupt",
     "evalue": "",
     "output_type": "error",
     "traceback": [
      "\u001b[0;31m----------------------------------------------------\u001b[0m",
      "\u001b[0;31mKeyboardInterrupt\u001b[0m  Traceback (most recent call last)",
      "\u001b[0;32m<ipython-input-12-7bd06f0fc835>\u001b[0m in \u001b[0;36m<module>\u001b[0;34m\u001b[0m\n\u001b[1;32m      2\u001b[0m \u001b[0;32mfor\u001b[0m \u001b[0m_\u001b[0m \u001b[0;32min\u001b[0m \u001b[0mrange\u001b[0m\u001b[0;34m(\u001b[0m\u001b[0;36m20\u001b[0m\u001b[0;34m)\u001b[0m\u001b[0;34m:\u001b[0m\u001b[0;34m\u001b[0m\u001b[0;34m\u001b[0m\u001b[0m\n\u001b[1;32m      3\u001b[0m     \u001b[0mX_train\u001b[0m\u001b[0;34m,\u001b[0m \u001b[0my_train\u001b[0m\u001b[0;34m,\u001b[0m \u001b[0mX_test\u001b[0m\u001b[0;34m,\u001b[0m \u001b[0my_test\u001b[0m \u001b[0;34m=\u001b[0m \u001b[0mtrain_test\u001b[0m\u001b[0;34m(\u001b[0m\u001b[0mdata\u001b[0m\u001b[0;34m)\u001b[0m\u001b[0;34m\u001b[0m\u001b[0;34m\u001b[0m\u001b[0m\n\u001b[0;32m----> 4\u001b[0;31m     \u001b[0mmodel\u001b[0m \u001b[0;34m=\u001b[0m \u001b[0mtrain_model\u001b[0m\u001b[0;34m(\u001b[0m\u001b[0mX_train\u001b[0m\u001b[0;34m,\u001b[0m \u001b[0my_train\u001b[0m\u001b[0;34m)\u001b[0m\u001b[0;34m\u001b[0m\u001b[0;34m\u001b[0m\u001b[0m\n\u001b[0m\u001b[1;32m      5\u001b[0m     \u001b[0mpredictions\u001b[0m \u001b[0;34m=\u001b[0m \u001b[0mmodel\u001b[0m\u001b[0;34m.\u001b[0m\u001b[0mpredict\u001b[0m\u001b[0;34m(\u001b[0m\u001b[0mX_test\u001b[0m\u001b[0;34m)\u001b[0m\u001b[0;34m\u001b[0m\u001b[0;34m\u001b[0m\u001b[0m\n\u001b[1;32m      6\u001b[0m     \u001b[0my\u001b[0m\u001b[0;34m.\u001b[0m\u001b[0mappend\u001b[0m\u001b[0;34m(\u001b[0m\u001b[0mmetrics\u001b[0m\u001b[0;34m.\u001b[0m\u001b[0mmean_absolute_error\u001b[0m\u001b[0;34m(\u001b[0m\u001b[0mpredictions\u001b[0m\u001b[0;34m,\u001b[0m \u001b[0my_test\u001b[0m\u001b[0;34m)\u001b[0m\u001b[0;34m)\u001b[0m\u001b[0;34m\u001b[0m\u001b[0;34m\u001b[0m\u001b[0m\n",
      "\u001b[0;32m<ipython-input-8-e5a8f9c705a3>\u001b[0m in \u001b[0;36mtrain_model\u001b[0;34m(X_train, y_train)\u001b[0m\n\u001b[1;32m      2\u001b[0m     model = xgboost.XGBRegressor(n_estimators=1000, max_depth=7,\n\u001b[1;32m      3\u001b[0m                          eta=0.1, subsample=0.7, colsample_bytree=0.8)\n\u001b[0;32m----> 4\u001b[0;31m     \u001b[0mmodel\u001b[0m\u001b[0;34m.\u001b[0m\u001b[0mfit\u001b[0m\u001b[0;34m(\u001b[0m\u001b[0mX_train\u001b[0m\u001b[0;34m,\u001b[0m \u001b[0my_train\u001b[0m\u001b[0;34m)\u001b[0m\u001b[0;34m\u001b[0m\u001b[0;34m\u001b[0m\u001b[0m\n\u001b[0m\u001b[1;32m      5\u001b[0m     \u001b[0;32mreturn\u001b[0m \u001b[0mmodel\u001b[0m\u001b[0;34m\u001b[0m\u001b[0;34m\u001b[0m\u001b[0m\n",
      "\u001b[0;32m~/.local/lib/python3.9/site-packages/xgboost/core.py\u001b[0m in \u001b[0;36minner_f\u001b[0;34m(*args, **kwargs)\u001b[0m\n\u001b[1;32m    504\u001b[0m         \u001b[0;32mfor\u001b[0m \u001b[0mk\u001b[0m\u001b[0;34m,\u001b[0m \u001b[0marg\u001b[0m \u001b[0;32min\u001b[0m \u001b[0mzip\u001b[0m\u001b[0;34m(\u001b[0m\u001b[0msig\u001b[0m\u001b[0;34m.\u001b[0m\u001b[0mparameters\u001b[0m\u001b[0;34m,\u001b[0m \u001b[0margs\u001b[0m\u001b[0;34m)\u001b[0m\u001b[0;34m:\u001b[0m\u001b[0;34m\u001b[0m\u001b[0;34m\u001b[0m\u001b[0m\n\u001b[1;32m    505\u001b[0m             \u001b[0mkwargs\u001b[0m\u001b[0;34m[\u001b[0m\u001b[0mk\u001b[0m\u001b[0;34m]\u001b[0m \u001b[0;34m=\u001b[0m \u001b[0marg\u001b[0m\u001b[0;34m\u001b[0m\u001b[0;34m\u001b[0m\u001b[0m\n\u001b[0;32m--> 506\u001b[0;31m         \u001b[0;32mreturn\u001b[0m \u001b[0mf\u001b[0m\u001b[0;34m(\u001b[0m\u001b[0;34m**\u001b[0m\u001b[0mkwargs\u001b[0m\u001b[0;34m)\u001b[0m\u001b[0;34m\u001b[0m\u001b[0;34m\u001b[0m\u001b[0m\n\u001b[0m\u001b[1;32m    507\u001b[0m \u001b[0;34m\u001b[0m\u001b[0m\n\u001b[1;32m    508\u001b[0m     \u001b[0;32mreturn\u001b[0m \u001b[0minner_f\u001b[0m\u001b[0;34m\u001b[0m\u001b[0;34m\u001b[0m\u001b[0m\n",
      "\u001b[0;32m~/.local/lib/python3.9/site-packages/xgboost/sklearn.py\u001b[0m in \u001b[0;36mfit\u001b[0;34m(self, X, y, sample_weight, base_margin, eval_set, eval_metric, early_stopping_rounds, verbose, xgb_model, sample_weight_eval_set, base_margin_eval_set, feature_weights, callbacks)\u001b[0m\n\u001b[1;32m    787\u001b[0m \u001b[0;34m\u001b[0m\u001b[0m\n\u001b[1;32m    788\u001b[0m         \u001b[0mmodel\u001b[0m\u001b[0;34m,\u001b[0m \u001b[0mfeval\u001b[0m\u001b[0;34m,\u001b[0m \u001b[0mparams\u001b[0m \u001b[0;34m=\u001b[0m \u001b[0mself\u001b[0m\u001b[0;34m.\u001b[0m\u001b[0m_configure_fit\u001b[0m\u001b[0;34m(\u001b[0m\u001b[0mxgb_model\u001b[0m\u001b[0;34m,\u001b[0m \u001b[0meval_metric\u001b[0m\u001b[0;34m,\u001b[0m \u001b[0mparams\u001b[0m\u001b[0;34m)\u001b[0m\u001b[0;34m\u001b[0m\u001b[0;34m\u001b[0m\u001b[0m\n\u001b[0;32m--> 789\u001b[0;31m         self._Booster = train(\n\u001b[0m\u001b[1;32m    790\u001b[0m             \u001b[0mparams\u001b[0m\u001b[0;34m,\u001b[0m\u001b[0;34m\u001b[0m\u001b[0;34m\u001b[0m\u001b[0m\n\u001b[1;32m    791\u001b[0m             \u001b[0mtrain_dmatrix\u001b[0m\u001b[0;34m,\u001b[0m\u001b[0;34m\u001b[0m\u001b[0;34m\u001b[0m\u001b[0m\n",
      "\u001b[0;32m~/.local/lib/python3.9/site-packages/xgboost/training.py\u001b[0m in \u001b[0;36mtrain\u001b[0;34m(params, dtrain, num_boost_round, evals, obj, feval, maximize, early_stopping_rounds, evals_result, verbose_eval, xgb_model, callbacks)\u001b[0m\n\u001b[1;32m    186\u001b[0m     \u001b[0mBooster\u001b[0m \u001b[0;34m:\u001b[0m \u001b[0ma\u001b[0m \u001b[0mtrained\u001b[0m \u001b[0mbooster\u001b[0m \u001b[0mmodel\u001b[0m\u001b[0;34m\u001b[0m\u001b[0;34m\u001b[0m\u001b[0m\n\u001b[1;32m    187\u001b[0m     \"\"\"\n\u001b[0;32m--> 188\u001b[0;31m     bst = _train_internal(params, dtrain,\n\u001b[0m\u001b[1;32m    189\u001b[0m                           \u001b[0mnum_boost_round\u001b[0m\u001b[0;34m=\u001b[0m\u001b[0mnum_boost_round\u001b[0m\u001b[0;34m,\u001b[0m\u001b[0;34m\u001b[0m\u001b[0;34m\u001b[0m\u001b[0m\n\u001b[1;32m    190\u001b[0m                           \u001b[0mevals\u001b[0m\u001b[0;34m=\u001b[0m\u001b[0mevals\u001b[0m\u001b[0;34m,\u001b[0m\u001b[0;34m\u001b[0m\u001b[0;34m\u001b[0m\u001b[0m\n",
      "\u001b[0;32m~/.local/lib/python3.9/site-packages/xgboost/training.py\u001b[0m in \u001b[0;36m_train_internal\u001b[0;34m(params, dtrain, num_boost_round, evals, obj, feval, xgb_model, callbacks, evals_result, maximize, verbose_eval, early_stopping_rounds)\u001b[0m\n\u001b[1;32m     79\u001b[0m         \u001b[0;32mif\u001b[0m \u001b[0mcallbacks\u001b[0m\u001b[0;34m.\u001b[0m\u001b[0mbefore_iteration\u001b[0m\u001b[0;34m(\u001b[0m\u001b[0mbst\u001b[0m\u001b[0;34m,\u001b[0m \u001b[0mi\u001b[0m\u001b[0;34m,\u001b[0m \u001b[0mdtrain\u001b[0m\u001b[0;34m,\u001b[0m \u001b[0mevals\u001b[0m\u001b[0;34m)\u001b[0m\u001b[0;34m:\u001b[0m\u001b[0;34m\u001b[0m\u001b[0;34m\u001b[0m\u001b[0m\n\u001b[1;32m     80\u001b[0m             \u001b[0;32mbreak\u001b[0m\u001b[0;34m\u001b[0m\u001b[0;34m\u001b[0m\u001b[0m\n\u001b[0;32m---> 81\u001b[0;31m         \u001b[0mbst\u001b[0m\u001b[0;34m.\u001b[0m\u001b[0mupdate\u001b[0m\u001b[0;34m(\u001b[0m\u001b[0mdtrain\u001b[0m\u001b[0;34m,\u001b[0m \u001b[0mi\u001b[0m\u001b[0;34m,\u001b[0m \u001b[0mobj\u001b[0m\u001b[0;34m)\u001b[0m\u001b[0;34m\u001b[0m\u001b[0;34m\u001b[0m\u001b[0m\n\u001b[0m\u001b[1;32m     82\u001b[0m         \u001b[0;32mif\u001b[0m \u001b[0mcallbacks\u001b[0m\u001b[0;34m.\u001b[0m\u001b[0mafter_iteration\u001b[0m\u001b[0;34m(\u001b[0m\u001b[0mbst\u001b[0m\u001b[0;34m,\u001b[0m \u001b[0mi\u001b[0m\u001b[0;34m,\u001b[0m \u001b[0mdtrain\u001b[0m\u001b[0;34m,\u001b[0m \u001b[0mevals\u001b[0m\u001b[0;34m)\u001b[0m\u001b[0;34m:\u001b[0m\u001b[0;34m\u001b[0m\u001b[0;34m\u001b[0m\u001b[0m\n\u001b[1;32m     83\u001b[0m             \u001b[0;32mbreak\u001b[0m\u001b[0;34m\u001b[0m\u001b[0;34m\u001b[0m\u001b[0m\n",
      "\u001b[0;32m~/.local/lib/python3.9/site-packages/xgboost/core.py\u001b[0m in \u001b[0;36mupdate\u001b[0;34m(self, dtrain, iteration, fobj)\u001b[0m\n\u001b[1;32m   1678\u001b[0m \u001b[0;34m\u001b[0m\u001b[0m\n\u001b[1;32m   1679\u001b[0m         \u001b[0;32mif\u001b[0m \u001b[0mfobj\u001b[0m \u001b[0;32mis\u001b[0m \u001b[0;32mNone\u001b[0m\u001b[0;34m:\u001b[0m\u001b[0;34m\u001b[0m\u001b[0;34m\u001b[0m\u001b[0m\n\u001b[0;32m-> 1680\u001b[0;31m             _check_call(_LIB.XGBoosterUpdateOneIter(self.handle,\n\u001b[0m\u001b[1;32m   1681\u001b[0m                                                     \u001b[0mctypes\u001b[0m\u001b[0;34m.\u001b[0m\u001b[0mc_int\u001b[0m\u001b[0;34m(\u001b[0m\u001b[0miteration\u001b[0m\u001b[0;34m)\u001b[0m\u001b[0;34m,\u001b[0m\u001b[0;34m\u001b[0m\u001b[0;34m\u001b[0m\u001b[0m\n\u001b[1;32m   1682\u001b[0m                                                     dtrain.handle))\n",
      "\u001b[0;31mKeyboardInterrupt\u001b[0m: "
     ]
    }
   ],
   "source": [
    "y = []\n",
    "for _ in range(10):\n",
    "    X_train, y_train, X_test, y_test = train_test(data)\n",
    "    model = train_model(X_train, y_train)\n",
    "    predictions = model.predict(X_test)\n",
    "    y.append(metrics.mean_absolute_error(predictions, y_test))\n",
    "sum(y)/len(y)"
   ]
  },
  {
   "cell_type": "code",
   "execution_count": null,
   "id": "interracial-manitoba",
   "metadata": {},
   "outputs": [],
   "source": [
    "np.std(y)\n"
   ]
  }
 ],
 "metadata": {
  "kernelspec": {
   "display_name": "Python 3",
   "language": "python",
   "name": "python3"
  },
  "language_info": {
   "codemirror_mode": {
    "name": "ipython",
    "version": 3
   },
   "file_extension": ".py",
   "mimetype": "text/x-python",
   "name": "python",
   "nbconvert_exporter": "python",
   "pygments_lexer": "ipython3",
   "version": "3.9.7"
  }
 },
 "nbformat": 4,
 "nbformat_minor": 5
}

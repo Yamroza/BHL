{
 "cells": [
  {
   "cell_type": "code",
   "execution_count": 1,
   "id": "silent-outside",
   "metadata": {},
   "outputs": [],
   "source": [
    "import pandas as pd\n",
    "import numpy as np\n",
    "import seaborn as sn\n",
    "import matplotlib.pyplot as plt\n"
   ]
  },
  {
   "cell_type": "code",
   "execution_count": 4,
   "id": "turned-florida",
   "metadata": {},
   "outputs": [
    {
     "name": "stdout",
     "output_type": "stream",
     "text": [
      "[nan 'E' 'F' 'G' 'H' 'N' 'I']\n"
     ]
    }
   ],
   "source": [
    "# XGBOOST, feature importances\n",
    "print(data[\"EASEMENT\"].unique())"
   ]
  },
  {
   "cell_type": "code",
   "execution_count": 5,
   "id": "canadian-saudi",
   "metadata": {},
   "outputs": [],
   "source": [
    "# GEOGRAFICZNIE UZUPELNIAMY NA PODSTAWIE BLOKÓW\n",
    "# geograficzne to:staddr, postcode, latitude, longitude, community board\n",
    "# council district, census tract, NTA\n",
    "# STORIES - BIERZEMY SREDNIA Z BLOKOW\n",
    "# ext na dwie kolumny e i g\n",
    "# EASEMENT - DWIE KOLUMNY E I N\n",
    "# obliczyc powierzchnie i normalizować"
   ]
  },
  {
   "cell_type": "code",
   "execution_count": 38,
   "id": "current-gamma",
   "metadata": {},
   "outputs": [],
   "source": [
    "def prepare_data(path):\n",
    "    data = pd.read_csv(path)\n",
    "    data.drop(labels=[\"BBLE\", \"LOT\",\"PERIOD\", \"VALTYPE\",\n",
    "                  \"Borough\", \"New Georeferenced Column\",\n",
    "                  \"OWNER\", \"AVLAND2\", \"AVTOT2\",\n",
    "                  \"EXLAND2\", \"EXTOT2\",\"BIN\", \"EXCD1\", \"EXCD2\",\n",
    "                  \"EXMPTCL\", \"YEAR\", \"STADDR\"],axis=1, inplace=True)\n",
    "    data[\"EASEMENT\"] = data[\"EASEMENT\"].fillna(\"0\")\n",
    "    data[\"EXT\"] = data[\"EXT\"].fillna(\"0\")\n",
    "    data.loc[(data[\"EASEMENT\"] == \"F\"), \"EASEMENT\"] = \"E\"\n",
    "    data.loc[(data[\"EASEMENT\"] == \"G\"), \"EASEMENT\"] = \"E\"\n",
    "    data.loc[(data[\"EASEMENT\"] == \"H\"), \"EASEMENT\"] = \"E\"\n",
    "    data.loc[(data[\"EASEMENT\"] == \"I\"), \"EASEMENT\"] = \"E\"\n",
    "    data[\"EXT_E\"] = 0\n",
    "    data[\"EXT_G\"] = 0\n",
    "    data[\"EASEMENT_E\"] = 0\n",
    "    data[\"EASEMENT_N\"] = 0\n",
    "    data.loc[(data[\"EXT\"] == \"E\"), \"EXT_E\"] = 1\n",
    "    data.loc[(data[\"EXT\"] == \"EG\"), \"EXT_E\"] = 1\n",
    "    data.loc[(data[\"EXT\"] == \"G\"), \"EXT_G\"] = 1\n",
    "    data.loc[(data[\"EXT\"] == \"EG\"), \"EXT_G\"] = 1\n",
    "    data.loc[(data[\"EASEMENT\"] == \"E\"), \"EASEMENT_E\"] = 1\n",
    "    data.loc[(data[\"EASEMENT\"] == \"N\"), \"EASEMENT_N\"] = 1\n",
    "    data.drop([\"EXT\", \"EASEMENT\"], axis=1, inplace=True)\n",
    "    data[\"STORIES\"].fillna(method=\"ffill\", inplace=True)\n",
    "    return data"
   ]
  },
  {
   "cell_type": "code",
   "execution_count": 39,
   "id": "returning-costume",
   "metadata": {},
   "outputs": [],
   "source": [
    "data = prepare_data(\"data/train_data.csv\")"
   ]
  },
  {
   "cell_type": "code",
   "execution_count": 40,
   "id": "broke-julian",
   "metadata": {},
   "outputs": [
    {
     "data": {
      "text/plain": [
       "BORO                0.00000\n",
       "BLOCK               0.00000\n",
       "BLDGCL              0.00000\n",
       "TAXCLASS            0.00000\n",
       "LTFRONT             0.00000\n",
       "LTDEPTH             0.00000\n",
       "STORIES             0.00000\n",
       "FULLVAL             0.00000\n",
       "AVLAND              0.00000\n",
       "AVTOT               0.00000\n",
       "EXLAND              0.00000\n",
       "EXTOT               0.00000\n",
       "POSTCODE            0.02947\n",
       "BLDFRONT            0.00000\n",
       "BLDDEPTH            0.00000\n",
       "Latitude            0.03633\n",
       "Longitude           0.03633\n",
       "Community Board     0.03633\n",
       "Council District    0.03633\n",
       "Census Tract        0.03633\n",
       "NTA                 0.03633\n",
       "EXT_E               0.00000\n",
       "EXT_G               0.00000\n",
       "EASEMENT_E          0.00000\n",
       "EASEMENT_N          0.00000\n",
       "LTSURF              0.00000\n",
       "dtype: float64"
      ]
     },
     "execution_count": 40,
     "metadata": {},
     "output_type": "execute_result"
    }
   ],
   "source": [
    "round(data.isnull().sum()/len(data), 5)"
   ]
  },
  {
   "cell_type": "code",
   "execution_count": null,
   "id": "parliamentary-climate",
   "metadata": {},
   "outputs": [],
   "source": [
    "\n"
   ]
  }
 ],
 "metadata": {
  "kernelspec": {
   "display_name": "Python 3",
   "language": "python",
   "name": "python3"
  },
  "language_info": {
   "codemirror_mode": {
    "name": "ipython",
    "version": 3
   },
   "file_extension": ".py",
   "mimetype": "text/x-python",
   "name": "python",
   "nbconvert_exporter": "python",
   "pygments_lexer": "ipython3",
   "version": "3.9.7"
  }
 },
 "nbformat": 4,
 "nbformat_minor": 5
}
